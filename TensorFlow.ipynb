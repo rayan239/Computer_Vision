{
  "nbformat": 4,
  "nbformat_minor": 0,
  "metadata": {
    "colab": {
      "provenance": [],
      "authorship_tag": "ABX9TyNPxc0zP5x6wMiU4jHkMpe2",
      "include_colab_link": true
    },
    "kernelspec": {
      "name": "python3",
      "display_name": "Python 3"
    },
    "language_info": {
      "name": "python"
    }
  },
  "cells": [
    {
      "cell_type": "markdown",
      "metadata": {
        "id": "view-in-github",
        "colab_type": "text"
      },
      "source": [
        "<a href=\"https://colab.research.google.com/github/rayan239/Computer_Vision/blob/main/TensorFlow.ipynb\" target=\"_parent\"><img src=\"https://colab.research.google.com/assets/colab-badge.svg\" alt=\"Open In Colab\"/></a>"
      ]
    },
    {
      "cell_type": "code",
      "execution_count": null,
      "metadata": {
        "id": "QFNBu1r5RTaY"
      },
      "outputs": [],
      "source": [
        "import tensorflow as tf"
      ]
    },
    {
      "cell_type": "markdown",
      "source": [
        "# Initialize and Casting"
      ],
      "metadata": {
        "id": "IRtO3i3877ly"
      }
    },
    {
      "cell_type": "code",
      "source": [
        "tensor_zero_d = tf.constant(4)\n",
        "print(tensor_zero_d)"
      ],
      "metadata": {
        "colab": {
          "base_uri": "https://localhost:8080/"
        },
        "id": "tov6TggxRg0I",
        "outputId": "483788be-d973-445b-d846-45228470314d"
      },
      "execution_count": null,
      "outputs": [
        {
          "output_type": "stream",
          "name": "stdout",
          "text": [
            "tf.Tensor(4, shape=(), dtype=int32)\n"
          ]
        }
      ]
    },
    {
      "cell_type": "code",
      "source": [
        "tensor_one_d = tf.constant([2,0,-2,3.0], dtype = tf.float32)\n",
        "print(tensor_one_d)"
      ],
      "metadata": {
        "colab": {
          "base_uri": "https://localhost:8080/"
        },
        "id": "X4ysZd2nRtMZ",
        "outputId": "8cfaa406-e252-4824-ad0a-e2fd8b279202"
      },
      "execution_count": null,
      "outputs": [
        {
          "output_type": "stream",
          "name": "stdout",
          "text": [
            "tf.Tensor([ 2.  0. -2.  3.], shape=(4,), dtype=float32)\n"
          ]
        }
      ]
    },
    {
      "cell_type": "code",
      "source": [
        "tensor_two_d = tf.constant([\n",
        "    [1,2],\n",
        "    [3,4]\n",
        "])\n",
        "print(tensor_two_d)"
      ],
      "metadata": {
        "colab": {
          "base_uri": "https://localhost:8080/"
        },
        "id": "o5XU2AKTR-er",
        "outputId": "47855119-da88-4f66-8823-d4fa4de414b9"
      },
      "execution_count": null,
      "outputs": [
        {
          "output_type": "stream",
          "name": "stdout",
          "text": [
            "tf.Tensor(\n",
            "[[1 2]\n",
            " [3 4]], shape=(2, 2), dtype=int32)\n"
          ]
        }
      ]
    },
    {
      "cell_type": "code",
      "source": [
        "tensor_three_d = tf.constant([\n",
        "    [[1,2],[3,4]],\n",
        "    [[5,6],[7,8]],\n",
        "    [[9,10],[11,12]]\n",
        "])\n",
        "print(tensor_three_d)"
      ],
      "metadata": {
        "colab": {
          "base_uri": "https://localhost:8080/"
        },
        "id": "8fikqkltSb3o",
        "outputId": "99012c29-4db6-4172-aa6c-1d08a06fe127"
      },
      "execution_count": null,
      "outputs": [
        {
          "output_type": "stream",
          "name": "stdout",
          "text": [
            "tf.Tensor(\n",
            "[[[ 1  2]\n",
            "  [ 3  4]]\n",
            "\n",
            " [[ 5  6]\n",
            "  [ 7  8]]\n",
            "\n",
            " [[ 9 10]\n",
            "  [11 12]]], shape=(3, 2, 2), dtype=int32)\n"
          ]
        }
      ]
    },
    {
      "cell_type": "code",
      "source": [
        "print(tensor_three_d.shape)"
      ],
      "metadata": {
        "colab": {
          "base_uri": "https://localhost:8080/"
        },
        "id": "I9A97Vq3TtwC",
        "outputId": "fbfef392-0b54-435d-fddb-6f1ef5a0fec1"
      },
      "execution_count": null,
      "outputs": [
        {
          "output_type": "stream",
          "name": "stdout",
          "text": [
            "(3, 2, 2)\n"
          ]
        }
      ]
    },
    {
      "cell_type": "code",
      "source": [
        "print(tensor_three_d.ndim)"
      ],
      "metadata": {
        "colab": {
          "base_uri": "https://localhost:8080/"
        },
        "id": "bzwDjAtLT-NI",
        "outputId": "b1250e7d-3b17-46a5-dc55-f6ead73e80db"
      },
      "execution_count": null,
      "outputs": [
        {
          "output_type": "stream",
          "name": "stdout",
          "text": [
            "3\n"
          ]
        }
      ]
    },
    {
      "cell_type": "code",
      "source": [
        "tensor_four_d = tf.constant([\n",
        "    [\n",
        "    [[1,2],[3,4]],\n",
        "    [[5,6],[7,8]],\n",
        "    [[9,10],[11,12]]\n",
        "    ],\n",
        "\n",
        "    [\n",
        "    [[11,12],[23,54]],\n",
        "    [[55,63],[75,83]],\n",
        "    [[94,150],[11,12]]\n",
        "    ],\n",
        "\n",
        "    [\n",
        "    [[16,82],[53,84]],\n",
        "    [[56,67],[78,85]],\n",
        "    [[957,810],[611,412]]\n",
        "    ]\n",
        "])\n",
        "print(tensor_four_d)"
      ],
      "metadata": {
        "colab": {
          "base_uri": "https://localhost:8080/"
        },
        "id": "dSfBKekgUJkj",
        "outputId": "d075a8a1-b2ec-42d4-8c4e-e1c6a17721d8"
      },
      "execution_count": null,
      "outputs": [
        {
          "output_type": "stream",
          "name": "stdout",
          "text": [
            "tf.Tensor(\n",
            "[[[[  1   2]\n",
            "   [  3   4]]\n",
            "\n",
            "  [[  5   6]\n",
            "   [  7   8]]\n",
            "\n",
            "  [[  9  10]\n",
            "   [ 11  12]]]\n",
            "\n",
            "\n",
            " [[[ 11  12]\n",
            "   [ 23  54]]\n",
            "\n",
            "  [[ 55  63]\n",
            "   [ 75  83]]\n",
            "\n",
            "  [[ 94 150]\n",
            "   [ 11  12]]]\n",
            "\n",
            "\n",
            " [[[ 16  82]\n",
            "   [ 53  84]]\n",
            "\n",
            "  [[ 56  67]\n",
            "   [ 78  85]]\n",
            "\n",
            "  [[957 810]\n",
            "   [611 412]]]], shape=(3, 3, 2, 2), dtype=int32)\n"
          ]
        }
      ]
    },
    {
      "cell_type": "code",
      "source": [
        "tensor_one_d = tf.constant([2.7,0,-2,3.0], dtype = tf.float32)\n",
        "casted_tensor_one_d = tf.cast(tensor_one_d, tf.bool)\n",
        "casted_tensor_one_d_ = tf.cast(tensor_one_d, tf.int16)\n",
        "print(tensor_one_d)\n",
        "print(casted_tensor_one_d)\n",
        "print(casted_tensor_one_d_)"
      ],
      "metadata": {
        "colab": {
          "base_uri": "https://localhost:8080/"
        },
        "id": "yhRKELAyXB62",
        "outputId": "fc9dfc9d-2014-42c9-f8d2-2ab81979bcb8"
      },
      "execution_count": null,
      "outputs": [
        {
          "output_type": "stream",
          "name": "stdout",
          "text": [
            "tf.Tensor([ 2.7  0.  -2.   3. ], shape=(4,), dtype=float32)\n",
            "tf.Tensor([ True False  True  True], shape=(4,), dtype=bool)\n",
            "tf.Tensor([ 2  0 -2  3], shape=(4,), dtype=int16)\n"
          ]
        }
      ]
    },
    {
      "cell_type": "code",
      "source": [
        "tensor_string = tf.constant(['hello','world'])\n",
        "print(tensor_string)"
      ],
      "metadata": {
        "colab": {
          "base_uri": "https://localhost:8080/"
        },
        "id": "F1qSkvUvYzvC",
        "outputId": "5d6db000-d313-4f64-e105-65bba375b3ce"
      },
      "execution_count": null,
      "outputs": [
        {
          "output_type": "stream",
          "name": "stdout",
          "text": [
            "tf.Tensor([b'hello' b'world'], shape=(2,), dtype=string)\n"
          ]
        }
      ]
    },
    {
      "cell_type": "code",
      "source": [
        "import numpy as np\n"
      ],
      "metadata": {
        "id": "onPd74SRbCS4"
      },
      "execution_count": null,
      "outputs": []
    },
    {
      "cell_type": "code",
      "source": [
        "array = np.array([1,2,3,4,5])\n",
        "tensor_from_array = tf.convert_to_tensor(array)\n",
        "print(tensor_from_array)"
      ],
      "metadata": {
        "colab": {
          "base_uri": "https://localhost:8080/"
        },
        "id": "QTJoTsOvmyOy",
        "outputId": "2a6e9532-535d-4e49-fa2a-19b07c6f2a2c"
      },
      "execution_count": null,
      "outputs": [
        {
          "output_type": "stream",
          "name": "stdout",
          "text": [
            "tf.Tensor([1 2 3 4 5], shape=(5,), dtype=int64)\n"
          ]
        }
      ]
    },
    {
      "cell_type": "code",
      "source": [
        "eye_tensor = tf.eye(\n",
        "    num_rows = 5,\n",
        "    num_columns = None,\n",
        "    batch_shape = [2,4],\n",
        "    dtype = tf.dtypes.float32,\n",
        "    name = None\n",
        ")\n",
        "print(3*eye_tensor)"
      ],
      "metadata": {
        "colab": {
          "base_uri": "https://localhost:8080/"
        },
        "id": "rVjHcgXFm6ha",
        "outputId": "0afb1313-95a1-4ae6-9d5e-19852fd70950"
      },
      "execution_count": null,
      "outputs": [
        {
          "output_type": "stream",
          "name": "stdout",
          "text": [
            "tf.Tensor(\n",
            "[[[[3. 0. 0. 0. 0.]\n",
            "   [0. 3. 0. 0. 0.]\n",
            "   [0. 0. 3. 0. 0.]\n",
            "   [0. 0. 0. 3. 0.]\n",
            "   [0. 0. 0. 0. 3.]]\n",
            "\n",
            "  [[3. 0. 0. 0. 0.]\n",
            "   [0. 3. 0. 0. 0.]\n",
            "   [0. 0. 3. 0. 0.]\n",
            "   [0. 0. 0. 3. 0.]\n",
            "   [0. 0. 0. 0. 3.]]\n",
            "\n",
            "  [[3. 0. 0. 0. 0.]\n",
            "   [0. 3. 0. 0. 0.]\n",
            "   [0. 0. 3. 0. 0.]\n",
            "   [0. 0. 0. 3. 0.]\n",
            "   [0. 0. 0. 0. 3.]]\n",
            "\n",
            "  [[3. 0. 0. 0. 0.]\n",
            "   [0. 3. 0. 0. 0.]\n",
            "   [0. 0. 3. 0. 0.]\n",
            "   [0. 0. 0. 3. 0.]\n",
            "   [0. 0. 0. 0. 3.]]]\n",
            "\n",
            "\n",
            " [[[3. 0. 0. 0. 0.]\n",
            "   [0. 3. 0. 0. 0.]\n",
            "   [0. 0. 3. 0. 0.]\n",
            "   [0. 0. 0. 3. 0.]\n",
            "   [0. 0. 0. 0. 3.]]\n",
            "\n",
            "  [[3. 0. 0. 0. 0.]\n",
            "   [0. 3. 0. 0. 0.]\n",
            "   [0. 0. 3. 0. 0.]\n",
            "   [0. 0. 0. 3. 0.]\n",
            "   [0. 0. 0. 0. 3.]]\n",
            "\n",
            "  [[3. 0. 0. 0. 0.]\n",
            "   [0. 3. 0. 0. 0.]\n",
            "   [0. 0. 3. 0. 0.]\n",
            "   [0. 0. 0. 3. 0.]\n",
            "   [0. 0. 0. 0. 3.]]\n",
            "\n",
            "  [[3. 0. 0. 0. 0.]\n",
            "   [0. 3. 0. 0. 0.]\n",
            "   [0. 0. 3. 0. 0.]\n",
            "   [0. 0. 0. 3. 0.]\n",
            "   [0. 0. 0. 0. 3.]]]], shape=(2, 4, 5, 5), dtype=float32)\n"
          ]
        }
      ]
    },
    {
      "cell_type": "code",
      "source": [
        "fill_tensor = tf.fill(\n",
        "    [3,4],\n",
        "    9,\n",
        "    name = None\n",
        ")\n",
        "print(fill_tensor)"
      ],
      "metadata": {
        "colab": {
          "base_uri": "https://localhost:8080/"
        },
        "id": "AJmacLcFm_wm",
        "outputId": "0ffc326c-e72d-4033-d4b3-f6abd908f8ff"
      },
      "execution_count": null,
      "outputs": [
        {
          "output_type": "stream",
          "name": "stdout",
          "text": [
            "tf.Tensor(\n",
            "[[9 9 9 9]\n",
            " [9 9 9 9]\n",
            " [9 9 9 9]], shape=(3, 4), dtype=int32)\n"
          ]
        }
      ]
    },
    {
      "cell_type": "code",
      "source": [
        " ones_tensor = tf.ones(\n",
        "    [3,4,2],\n",
        "    dtype = tf.dtypes.float32,\n",
        "    name = None\n",
        ")\n",
        "print(ones_tensor)"
      ],
      "metadata": {
        "colab": {
          "base_uri": "https://localhost:8080/"
        },
        "id": "fsdL582DpGQ6",
        "outputId": "cff6f826-2512-4ea6-d5e7-29741fbf68fa"
      },
      "execution_count": null,
      "outputs": [
        {
          "output_type": "stream",
          "name": "stdout",
          "text": [
            "tf.Tensor(\n",
            "[[[1. 1.]\n",
            "  [1. 1.]\n",
            "  [1. 1.]\n",
            "  [1. 1.]]\n",
            "\n",
            " [[1. 1.]\n",
            "  [1. 1.]\n",
            "  [1. 1.]\n",
            "  [1. 1.]]\n",
            "\n",
            " [[1. 1.]\n",
            "  [1. 1.]\n",
            "  [1. 1.]\n",
            "  [1. 1.]]], shape=(3, 4, 2), dtype=float32)\n"
          ]
        }
      ]
    },
    {
      "cell_type": "code",
      "source": [
        "one_like_tensor = tf.ones_like(\n",
        "    fill_tensor\n",
        ")\n",
        "print(one_like_tensor)"
      ],
      "metadata": {
        "colab": {
          "base_uri": "https://localhost:8080/"
        },
        "id": "wIpcCdGzr4Qd",
        "outputId": "6d92e133-04c0-4aec-beb4-76540ae6b3c8"
      },
      "execution_count": null,
      "outputs": [
        {
          "output_type": "stream",
          "name": "stdout",
          "text": [
            "tf.Tensor(\n",
            "[[1 1 1 1]\n",
            " [1 1 1 1]\n",
            " [1 1 1 1]], shape=(3, 4), dtype=int32)\n"
          ]
        }
      ]
    },
    {
      "cell_type": "code",
      "source": [
        "zeros_tensor = tf.zeros(\n",
        "    [3,2],\n",
        "    dtype = tf.dtypes.float32,\n",
        "    name = None\n",
        ")\n",
        "print(zeros_tensor)"
      ],
      "metadata": {
        "colab": {
          "base_uri": "https://localhost:8080/"
        },
        "id": "lH7PailXsxQ3",
        "outputId": "0a880fc8-110f-43d3-d7e9-c146f2f829f3"
      },
      "execution_count": null,
      "outputs": [
        {
          "output_type": "stream",
          "name": "stdout",
          "text": [
            "tf.Tensor(\n",
            "[[0. 0.]\n",
            " [0. 0.]\n",
            " [0. 0.]], shape=(3, 2), dtype=float32)\n"
          ]
        }
      ]
    },
    {
      "cell_type": "code",
      "source": [
        "print(tf.shape(tensor_three_d))"
      ],
      "metadata": {
        "colab": {
          "base_uri": "https://localhost:8080/"
        },
        "id": "LaNQgusrtN64",
        "outputId": "3577b2aa-865c-4c5b-9f5e-669b5016aee3"
      },
      "execution_count": null,
      "outputs": [
        {
          "output_type": "stream",
          "name": "stdout",
          "text": [
            "tf.Tensor([3 2 2], shape=(3,), dtype=int32)\n"
          ]
        }
      ]
    },
    {
      "cell_type": "code",
      "source": [
        "rank_tensor = tf.rank(tensor_three_d)\n",
        "print(rank_tensor)"
      ],
      "metadata": {
        "colab": {
          "base_uri": "https://localhost:8080/"
        },
        "id": "UYYldB_Ut36_",
        "outputId": "9338a994-5afc-464b-f531-90d93a134b36"
      },
      "execution_count": null,
      "outputs": [
        {
          "output_type": "stream",
          "name": "stdout",
          "text": [
            "tf.Tensor(3, shape=(), dtype=int32)\n"
          ]
        }
      ]
    },
    {
      "cell_type": "code",
      "source": [
        "size_tensor = tf.size(tensor_three_d)\n",
        "print(size_tensor)"
      ],
      "metadata": {
        "colab": {
          "base_uri": "https://localhost:8080/"
        },
        "id": "nA_ND_Ygwhbb",
        "outputId": "5fc3531f-3dd6-4558-b1cf-7b6e44cfb9b8"
      },
      "execution_count": null,
      "outputs": [
        {
          "output_type": "stream",
          "name": "stdout",
          "text": [
            "tf.Tensor(12, shape=(), dtype=int32)\n"
          ]
        }
      ]
    },
    {
      "cell_type": "code",
      "source": [
        "random_tensor = tf.random.normal(\n",
        "    [3,2],\n",
        "    mean = 100.0,\n",
        "    stddev = 1.0,\n",
        "    dtype = tf.dtypes.float32,\n",
        "    seed = None,\n",
        "    name = None\n",
        ")\n",
        "print(random_tensor)"
      ],
      "metadata": {
        "colab": {
          "base_uri": "https://localhost:8080/"
        },
        "id": "-JH6iYtVxEEb",
        "outputId": "f4fbbca6-40ba-440b-c943-78ab80e14d7e"
      },
      "execution_count": null,
      "outputs": [
        {
          "output_type": "stream",
          "name": "stdout",
          "text": [
            "tf.Tensor(\n",
            "[[100.750725  98.652115]\n",
            " [ 98.38134  100.495514]\n",
            " [ 98.23582   99.55065 ]], shape=(3, 2), dtype=float32)\n"
          ]
        }
      ]
    },
    {
      "cell_type": "code",
      "source": [
        "uniform_tensor = tf.random.uniform(\n",
        "    [4,3,2],\n",
        "    minval = 0,\n",
        "    maxval = 100,\n",
        "    dtype = tf.dtypes.float32,\n",
        "    seed = None,\n",
        "    name = None\n",
        ")\n",
        "print(uniform_tensor)\n",
        "#"
      ],
      "metadata": {
        "colab": {
          "base_uri": "https://localhost:8080/"
        },
        "id": "V-Ir0Jb_yF69",
        "outputId": "e7bac101-5d2e-4eb4-b04b-0d2f242cf44d"
      },
      "execution_count": null,
      "outputs": [
        {
          "output_type": "stream",
          "name": "stdout",
          "text": [
            "tf.Tensor(\n",
            "[[[27.828323  13.203788 ]\n",
            "  [59.96665   14.021624 ]\n",
            "  [35.309196  41.077076 ]]\n",
            "\n",
            " [[52.709435   3.1586766]\n",
            "  [46.448006  93.696304 ]\n",
            "  [51.64919   57.919014 ]]\n",
            "\n",
            " [[82.78192   35.310246 ]\n",
            "  [96.88254   16.069317 ]\n",
            "  [77.196625  29.926395 ]]\n",
            "\n",
            " [[60.940968   9.289694 ]\n",
            "  [86.6696    10.347223 ]\n",
            "  [35.20229    3.2022834]]], shape=(4, 3, 2), dtype=float32)\n"
          ]
        }
      ]
    },
    {
      "cell_type": "code",
      "source": [
        " tf.random.set_seed(5)\n",
        " print(tf.random.uniform([5,], seed=5))\n",
        " print(tf.random.uniform([5,], seed=5))\n",
        " print(tf.random.uniform([5,], seed=5))\n",
        " print(tf.random.uniform([5,], seed=5))"
      ],
      "metadata": {
        "colab": {
          "base_uri": "https://localhost:8080/"
        },
        "id": "WtFp9ZgT2ban",
        "outputId": "bb7573aa-4cdf-4557-e9a1-e396b0bc73c4"
      },
      "execution_count": null,
      "outputs": [
        {
          "output_type": "stream",
          "name": "stdout",
          "text": [
            "tf.Tensor([0.15474987 0.85654056 0.84221935 0.4601258  0.13398027], shape=(5,), dtype=float32)\n",
            "tf.Tensor([0.95445037 0.06285453 0.95480025 0.16461766 0.9124832 ], shape=(5,), dtype=float32)\n",
            "tf.Tensor([0.41551626 0.17357779 0.22480154 0.93284345 0.1961875 ], shape=(5,), dtype=float32)\n",
            "tf.Tensor([0.38461006 0.6035322  0.25938308 0.6502763  0.95165634], shape=(5,), dtype=float32)\n"
          ]
        }
      ]
    },
    {
      "cell_type": "code",
      "source": [
        " tf.random.set_seed(5)\n",
        " print(tf.random.uniform([5,], seed=5))\n",
        " print(tf.random.uniform([5,], seed=5))\n",
        " print(tf.random.uniform([5,], seed=5))\n",
        " print(tf.random.uniform([5,], seed=5))"
      ],
      "metadata": {
        "colab": {
          "base_uri": "https://localhost:8080/"
        },
        "id": "UiuVMOya7X8i",
        "outputId": "b60749cc-0aa9-4c84-b811-f17502643229"
      },
      "execution_count": null,
      "outputs": [
        {
          "output_type": "stream",
          "name": "stdout",
          "text": [
            "tf.Tensor([0.15474987 0.85654056 0.84221935 0.4601258  0.13398027], shape=(5,), dtype=float32)\n",
            "tf.Tensor([0.95445037 0.06285453 0.95480025 0.16461766 0.9124832 ], shape=(5,), dtype=float32)\n",
            "tf.Tensor([0.41551626 0.17357779 0.22480154 0.93284345 0.1961875 ], shape=(5,), dtype=float32)\n",
            "tf.Tensor([0.38461006 0.6035322  0.25938308 0.6502763  0.95165634], shape=(5,), dtype=float32)\n"
          ]
        }
      ]
    },
    {
      "cell_type": "code",
      "source": [],
      "metadata": {
        "id": "eV7Bnuvp7m8f"
      },
      "execution_count": null,
      "outputs": []
    },
    {
      "cell_type": "markdown",
      "source": [
        "# Indexing"
      ],
      "metadata": {
        "id": "fbR9ttvP8CXd"
      }
    },
    {
      "cell_type": "code",
      "source": [
        "tensor_indexed = tf.constant([1,2,3,4,5,6,7,8,9,10])\n",
        "print(tensor_indexed[0:4])\n",
        "print(tensor_indexed[1:5:2])"
      ],
      "metadata": {
        "colab": {
          "base_uri": "https://localhost:8080/"
        },
        "id": "Ketsa2268GR7",
        "outputId": "8e2f473e-6917-4d74-f18e-99f9aeef4c22"
      },
      "execution_count": null,
      "outputs": [
        {
          "output_type": "stream",
          "name": "stdout",
          "text": [
            "tf.Tensor([1 2 3 4], shape=(4,), dtype=int32)\n",
            "tf.Tensor([2 4], shape=(2,), dtype=int32)\n"
          ]
        }
      ]
    },
    {
      "cell_type": "code",
      "source": [
        "tensor_two_d = tf.constant([\n",
        "    [1,2,3,4],\n",
        "    [5,6,7,8],\n",
        "    [9,10,11,12]\n",
        "])\n",
        "print(tensor_two_d[0:2,1:3])\n",
        "print(tensor_two_d[...,1])"
      ],
      "metadata": {
        "colab": {
          "base_uri": "https://localhost:8080/"
        },
        "id": "YYsi-AvrIkG4",
        "outputId": "99e5bfb0-d042-4aa7-e005-befdb677fa86"
      },
      "execution_count": null,
      "outputs": [
        {
          "output_type": "stream",
          "name": "stdout",
          "text": [
            "tf.Tensor(\n",
            "[[2 3]\n",
            " [6 7]], shape=(2, 2), dtype=int32)\n",
            "tf.Tensor([ 2  6 10], shape=(3,), dtype=int32)\n"
          ]
        }
      ]
    },
    {
      "cell_type": "code",
      "source": [
        "tensor_three_d = tf.constant([\n",
        "    [[1,2],[3,4]],\n",
        "    [[5,6],[7,8]],\n",
        "    [[9,10],[11,12]]\n",
        "])\n",
        "print(tensor_three_d[1,0,:])\n",
        "print(tensor_three_d[:,:,-1])\n",
        "print(tensor_three_d[ ... , : , -1])"
      ],
      "metadata": {
        "colab": {
          "base_uri": "https://localhost:8080/"
        },
        "id": "J514EXHpL46B",
        "outputId": "2938fbb9-b8ff-4b04-8091-9b09604e2764"
      },
      "execution_count": null,
      "outputs": [
        {
          "output_type": "stream",
          "name": "stdout",
          "text": [
            "tf.Tensor([5 6], shape=(2,), dtype=int32)\n",
            "tf.Tensor(\n",
            "[[ 2  4]\n",
            " [ 6  8]\n",
            " [10 12]], shape=(3, 2), dtype=int32)\n",
            "tf.Tensor(\n",
            "[[ 2  4]\n",
            " [ 6  8]\n",
            " [10 12]], shape=(3, 2), dtype=int32)\n"
          ]
        }
      ]
    },
    {
      "cell_type": "markdown",
      "source": [
        "# Math Operations"
      ],
      "metadata": {
        "id": "fV4RZKx6OW7E"
      }
    },
    {
      "cell_type": "code",
      "source": [
        "x_abs = tf.constant([[1,-2,-3],[-3,-7,-0.3]])\n",
        "tf.abs(x_abs)"
      ],
      "metadata": {
        "colab": {
          "base_uri": "https://localhost:8080/"
        },
        "id": "zuUgiwvwNJiF",
        "outputId": "0e8a4607-3cc4-41f7-8d50-36d4ea0523c7"
      },
      "execution_count": null,
      "outputs": [
        {
          "output_type": "execute_result",
          "data": {
            "text/plain": [
              "<tf.Tensor: shape=(2, 3), dtype=float32, numpy=\n",
              "array([[1. , 2. , 3. ],\n",
              "       [3. , 7. , 0.3]], dtype=float32)>"
            ]
          },
          "metadata": {},
          "execution_count": 28
        }
      ]
    },
    {
      "cell_type": "code",
      "source": [
        "tf.abs(-2)"
      ],
      "metadata": {
        "colab": {
          "base_uri": "https://localhost:8080/"
        },
        "id": "p_hxBkm0iShS",
        "outputId": "fcae62d9-1709-4b8f-d9b6-c07ac6d36a4b"
      },
      "execution_count": null,
      "outputs": [
        {
          "output_type": "execute_result",
          "data": {
            "text/plain": [
              "<tf.Tensor: shape=(), dtype=int32, numpy=2>"
            ]
          },
          "metadata": {},
          "execution_count": 29
        }
      ]
    },
    {
      "cell_type": "code",
      "source": [
        "x_abs_complex = tf.constant([-2.034 + 3.997j])\n",
        "print(tf.abs(x_abs_complex))\n",
        "\n",
        "print(tf.sqrt((-2.034)**2 + 3.997**2))"
      ],
      "metadata": {
        "colab": {
          "base_uri": "https://localhost:8080/"
        },
        "id": "PmfA7mY6icg1",
        "outputId": "c2551c52-18d6-4b79-d4cd-adfa2ab7775a"
      },
      "execution_count": null,
      "outputs": [
        {
          "output_type": "stream",
          "name": "stdout",
          "text": [
            "tf.Tensor([4.48477034], shape=(1,), dtype=float64)\n",
            "tf.Tensor(4.4847703, shape=(), dtype=float32)\n"
          ]
        }
      ]
    },
    {
      "cell_type": "code",
      "source": [
        "x_1 = tf.constant([1,2,3,4,5], dtype=tf.float32)\n",
        "x_2 = tf.constant([0,7,8,9,10], dtype=tf.float32)\n",
        "x_3 = tf.constant([5], dtype=tf.float32)\n",
        "print(tf.add(x_1,x_2))\n",
        "print(tf.subtract(x_1,x_2))\n",
        "print(tf.multiply(x_1,x_2))\n",
        "print(tf.divide(x_1,x_2))\n",
        "print(tf.math.divide_no_nan(x_1,x_2))\n",
        "print(tf.math.add(x_1,x_3))#broadcasting"
      ],
      "metadata": {
        "colab": {
          "base_uri": "https://localhost:8080/"
        },
        "id": "QJUC-JbZjIu5",
        "outputId": "40b81441-2db3-4460-fd1b-bfe7e5975cf5"
      },
      "execution_count": null,
      "outputs": [
        {
          "output_type": "stream",
          "name": "stdout",
          "text": [
            "tf.Tensor([ 1.  9. 11. 13. 15.], shape=(5,), dtype=float32)\n",
            "tf.Tensor([ 1. -5. -5. -5. -5.], shape=(5,), dtype=float32)\n",
            "tf.Tensor([ 0. 14. 24. 36. 50.], shape=(5,), dtype=float32)\n",
            "tf.Tensor([       inf 0.2857143  0.375      0.44444445 0.5       ], shape=(5,), dtype=float32)\n",
            "tf.Tensor([0.         0.2857143  0.375      0.44444445 0.5       ], shape=(5,), dtype=float32)\n",
            "tf.Tensor([ 6.  7.  8.  9. 10.], shape=(5,), dtype=float32)\n"
          ]
        }
      ]
    },
    {
      "cell_type": "code",
      "source": [
        "x_3 = tf.constant([[5,3,6,6,4,6]], dtype=tf.float32)\n",
        "x_4 = tf.constant([[7],[5],[3]], dtype=tf.float32)\n",
        "print(x_3.shape)\n",
        "print(x_4.shape)\n",
        "print(tf.math.multiply(x_3,x_4))"
      ],
      "metadata": {
        "colab": {
          "base_uri": "https://localhost:8080/"
        },
        "id": "6jHL5nyllJ3v",
        "outputId": "eea5d1fb-29dc-416e-8cad-87fd6bc0ccb4"
      },
      "execution_count": null,
      "outputs": [
        {
          "output_type": "stream",
          "name": "stdout",
          "text": [
            "(1, 6)\n",
            "(3, 1)\n",
            "tf.Tensor(\n",
            "[[35. 21. 42. 42. 28. 42.]\n",
            " [25. 15. 30. 30. 20. 30.]\n",
            " [15.  9. 18. 18. 12. 18.]], shape=(3, 6), dtype=float32)\n"
          ]
        }
      ]
    },
    {
      "cell_type": "code",
      "source": [
        "B = tf.constant([[2, 20, 30, 3, 6], [3, 11, 16, 1, 8],\n",
        "                 [14, 45, 23, 5, 27]])\n",
        "print(tf.math.argmax(B, 0))\n",
        "print(tf.math.argmax(B, 1))"
      ],
      "metadata": {
        "colab": {
          "base_uri": "https://localhost:8080/"
        },
        "id": "Mw3VQ0bPppUI",
        "outputId": "9a89f464-5112-4252-ba9f-c7ac3a13be0e"
      },
      "execution_count": null,
      "outputs": [
        {
          "output_type": "stream",
          "name": "stdout",
          "text": [
            "tf.Tensor([2 2 0 2 2], shape=(5,), dtype=int64)\n",
            "tf.Tensor([2 2 1], shape=(3,), dtype=int64)\n"
          ]
        }
      ]
    },
    {
      "cell_type": "code",
      "source": [
        "x = tf.constant([2, 4])\n",
        "y = tf.constant(2)\n",
        "tf.math.equal(x, y)"
      ],
      "metadata": {
        "colab": {
          "base_uri": "https://localhost:8080/"
        },
        "id": "z9hOsWphmDRE",
        "outputId": "dceee9e7-16b6-4857-82c7-5e23aa1d3309"
      },
      "execution_count": null,
      "outputs": [
        {
          "output_type": "execute_result",
          "data": {
            "text/plain": [
              "<tf.Tensor: shape=(2,), dtype=bool, numpy=array([ True, False])>"
            ]
          },
          "metadata": {},
          "execution_count": 34
        }
      ]
    },
    {
      "cell_type": "code",
      "source": [
        "x = tf.constant([[2, 2], [3, 3]])\n",
        "y = tf.constant([[8, 16], [2, 3]])\n",
        "tf.pow(x, y)  # [[256, 65536], [9, 27]]"
      ],
      "metadata": {
        "colab": {
          "base_uri": "https://localhost:8080/"
        },
        "id": "8jETf0TgnVkg",
        "outputId": "543ed9c6-6487-4caa-afdf-a91b4671c927"
      },
      "execution_count": null,
      "outputs": [
        {
          "output_type": "execute_result",
          "data": {
            "text/plain": [
              "<tf.Tensor: shape=(2, 2), dtype=int32, numpy=\n",
              "array([[  256, 65536],\n",
              "       [    9,    27]], dtype=int32)>"
            ]
          },
          "metadata": {},
          "execution_count": 35
        }
      ]
    },
    {
      "cell_type": "code",
      "source": [
        "tensor_two_d = tf.constant([\n",
        "    [1,2,3,4],\n",
        "    [5,6,7,8],\n",
        "    [9,10,11,12]\n",
        "], dtype = tf.float16)\n",
        "print(tf.math.reduce_sum(tensor_two_d))\n",
        "print(tf.math.reduce_sum(tensor_two_d,0))\n",
        "print(tf.math.reduce_sum(tensor_two_d,1))\n",
        "print(tf.math.reduce_max(tensor_two_d,1))\n",
        "print(tf.math.reduce_mean(tensor_two_d,1))\n",
        "print(tf.math.reduce_std(tensor_two_d,1, keepdims=True))"
      ],
      "metadata": {
        "colab": {
          "base_uri": "https://localhost:8080/"
        },
        "id": "XEXRd2R5nu5I",
        "outputId": "8fb89d0e-c912-466b-f082-8222a8615839"
      },
      "execution_count": null,
      "outputs": [
        {
          "output_type": "stream",
          "name": "stdout",
          "text": [
            "tf.Tensor(78.0, shape=(), dtype=float16)\n",
            "tf.Tensor([15. 18. 21. 24.], shape=(4,), dtype=float16)\n",
            "tf.Tensor([10. 26. 42.], shape=(3,), dtype=float16)\n",
            "tf.Tensor([ 4.  8. 12.], shape=(3,), dtype=float16)\n",
            "tf.Tensor([ 2.5  6.5 10.5], shape=(3,), dtype=float16)\n",
            "tf.Tensor(\n",
            "[[1.118]\n",
            " [1.118]\n",
            " [1.118]], shape=(3, 1), dtype=float16)\n"
          ]
        }
      ]
    },
    {
      "cell_type": "code",
      "source": [
        "x = tf.constant([0.0, 1.0, 50.0, 100.0])\n",
        "tf.math.sigmoid(x)# y = 1/(1+e^-x)"
      ],
      "metadata": {
        "colab": {
          "base_uri": "https://localhost:8080/"
        },
        "id": "onjoK172oucM",
        "outputId": "9203f606-691b-4187-f732-098e3866b7af"
      },
      "execution_count": null,
      "outputs": [
        {
          "output_type": "execute_result",
          "data": {
            "text/plain": [
              "<tf.Tensor: shape=(4,), dtype=float32, numpy=array([0.5      , 0.7310586, 1.       , 1.       ], dtype=float32)>"
            ]
          },
          "metadata": {},
          "execution_count": 37
        }
      ]
    },
    {
      "cell_type": "code",
      "source": [
        "result = tf.math.top_k([1, 2, 98, 1, 1, 99, 3, 1, 3, 96, 4, 1],\n",
        "                        k=3)\n",
        "print(result)"
      ],
      "metadata": {
        "colab": {
          "base_uri": "https://localhost:8080/"
        },
        "id": "vLCaVWOOrEhN",
        "outputId": "796e0753-0940-43f7-cc7d-ef750e00a292"
      },
      "execution_count": null,
      "outputs": [
        {
          "output_type": "stream",
          "name": "stdout",
          "text": [
            "TopKV2(values=<tf.Tensor: shape=(3,), dtype=int32, numpy=array([99, 98, 96], dtype=int32)>, indices=<tf.Tensor: shape=(3,), dtype=int32, numpy=array([5, 2, 9], dtype=int32)>)\n"
          ]
        }
      ]
    },
    {
      "cell_type": "code",
      "source": [
        "tensor_two_d = tf.constant([\n",
        "    [1,2,3,4],\n",
        "    [5,6,7,8],\n",
        "    [9,10,11,12]\n",
        "], dtype = tf.float16)\n",
        "tf.math.top_k(tensor_two_d,k=2)"
      ],
      "metadata": {
        "colab": {
          "base_uri": "https://localhost:8080/"
        },
        "id": "zv3_npicr8b2",
        "outputId": "15184f04-1e60-410a-bba3-f7cd726e628e"
      },
      "execution_count": null,
      "outputs": [
        {
          "output_type": "execute_result",
          "data": {
            "text/plain": [
              "TopKV2(values=<tf.Tensor: shape=(3, 2), dtype=float16, numpy=\n",
              "array([[ 4.,  3.],\n",
              "       [ 8.,  7.],\n",
              "       [12., 11.]], dtype=float16)>, indices=<tf.Tensor: shape=(3, 2), dtype=int32, numpy=\n",
              "array([[3, 2],\n",
              "       [3, 2],\n",
              "       [3, 2]], dtype=int32)>)"
            ]
          },
          "metadata": {},
          "execution_count": 39
        }
      ]
    },
    {
      "cell_type": "markdown",
      "source": [
        "# Linear Algebra Operations"
      ],
      "metadata": {
        "id": "8gDvliIps9z8"
      }
    },
    {
      "cell_type": "code",
      "source": [
        " # Matrix Multiplication\n",
        " a = tf.constant([[1,2,3],[4,5,6],[7,8,9]])\n",
        " b = tf.constant([[12,34],[34,67],[34,67]])\n",
        " tf.linalg.matmul(\n",
        "    a,\n",
        "    b,\n",
        "    transpose_a=False,\n",
        "    transpose_b=False,\n",
        "    adjoint_a=False,\n",
        "    adjoint_b=False,\n",
        "    a_is_sparse=False,\n",
        "    b_is_sparse=False,\n",
        "    output_type=None,\n",
        "    grad_a=False,\n",
        "    grad_b=False,\n",
        "    name=None\n",
        ")\n",
        " # sparse = most of the elements in the matrix are zero\n",
        " # adjoint = transpose + conjugate"
      ],
      "metadata": {
        "colab": {
          "base_uri": "https://localhost:8080/"
        },
        "id": "BA3h1Z0Xs8gH",
        "outputId": "e44b1b5f-65ca-49e7-b9c5-7bd70b8a9bfa"
      },
      "execution_count": null,
      "outputs": [
        {
          "output_type": "execute_result",
          "data": {
            "text/plain": [
              "<tf.Tensor: shape=(3, 2), dtype=int32, numpy=\n",
              "array([[ 182,  369],\n",
              "       [ 422,  873],\n",
              "       [ 662, 1377]], dtype=int32)>"
            ]
          },
          "metadata": {},
          "execution_count": 40
        }
      ]
    },
    {
      "cell_type": "code",
      "source": [
        "print(a@b) #Matrix Multiplication"
      ],
      "metadata": {
        "colab": {
          "base_uri": "https://localhost:8080/"
        },
        "id": "xQeGhiX7srqO",
        "outputId": "563ae791-9e08-4bdf-9692-74eb43658d7a"
      },
      "execution_count": null,
      "outputs": [
        {
          "output_type": "stream",
          "name": "stdout",
          "text": [
            "tf.Tensor(\n",
            "[[ 182  369]\n",
            " [ 422  873]\n",
            " [ 662 1377]], shape=(3, 2), dtype=int32)\n"
          ]
        }
      ]
    },
    {
      "cell_type": "code",
      "source": [
        "tf.transpose(a)"
      ],
      "metadata": {
        "colab": {
          "base_uri": "https://localhost:8080/"
        },
        "id": "sWjZKfuPDRsr",
        "outputId": "7fc3a9cb-9fa2-4f3c-cdda-5c4b842c007b"
      },
      "execution_count": null,
      "outputs": [
        {
          "output_type": "execute_result",
          "data": {
            "text/plain": [
              "<tf.Tensor: shape=(3, 3), dtype=int32, numpy=\n",
              "array([[1, 4, 7],\n",
              "       [2, 5, 8],\n",
              "       [3, 6, 9]], dtype=int32)>"
            ]
          },
          "metadata": {},
          "execution_count": 42
        }
      ]
    },
    {
      "cell_type": "code",
      "source": [
        "a = tf.constant(np.arange(1, 13, dtype=np.int32), shape=[2, 2, 3])\n",
        "print(a)\n",
        "\n",
        "b = tf.constant(np.arange(13, 25, dtype=np.int32), shape=[2, 3, 2])\n",
        "print(b)\n",
        "\n",
        "c = tf.matmul(a, b)\n",
        "print(c)"
      ],
      "metadata": {
        "colab": {
          "base_uri": "https://localhost:8080/"
        },
        "id": "_t0yn-vfDsbA",
        "outputId": "d9c1b323-6506-4fa2-c9c3-fc0cdf1bc2f2"
      },
      "execution_count": null,
      "outputs": [
        {
          "output_type": "stream",
          "name": "stdout",
          "text": [
            "tf.Tensor(\n",
            "[[[ 1  2  3]\n",
            "  [ 4  5  6]]\n",
            "\n",
            " [[ 7  8  9]\n",
            "  [10 11 12]]], shape=(2, 2, 3), dtype=int32)\n",
            "tf.Tensor(\n",
            "[[[13 14]\n",
            "  [15 16]\n",
            "  [17 18]]\n",
            "\n",
            " [[19 20]\n",
            "  [21 22]\n",
            "  [23 24]]], shape=(2, 3, 2), dtype=int32)\n",
            "tf.Tensor(\n",
            "[[[ 94 100]\n",
            "  [229 244]]\n",
            "\n",
            " [[508 532]\n",
            "  [697 730]]], shape=(2, 2, 2), dtype=int32)\n"
          ]
        }
      ]
    },
    {
      "cell_type": "code",
      "source": [
        "# tf.linalg.band_part\n",
        "\n",
        "input = tf.constant([[ 5,  1,  2, 3],\n",
        "                [-1,  4,  1, 2],\n",
        "                [-2, -1,  3, 1],\n",
        "                [-3, -2, -1, 2]], dtype=tf.float32)\n",
        "\n",
        "print(tf.linalg.band_part(input, 1, -1))\n",
        "\n",
        "# (num_lower < 0 || (m-n) <= num_lower)) && (num_upper < 0 || (n-m) <= num_upper)\n",
        "# if this condition is true then hold the same value otherwise 0.\n",
        "# m --> rows index\n",
        "# n --> columns index\n",
        "\n",
        "print(tf.linalg.band_part(input, 2, 1))"
      ],
      "metadata": {
        "colab": {
          "base_uri": "https://localhost:8080/"
        },
        "id": "N6K6F35AJfyz",
        "outputId": "f60968c1-d3b2-46fd-df03-95296b82218c"
      },
      "execution_count": null,
      "outputs": [
        {
          "output_type": "stream",
          "name": "stdout",
          "text": [
            "tf.Tensor(\n",
            "[[ 5.  1.  2.  3.]\n",
            " [-1.  4.  1.  2.]\n",
            " [ 0. -1.  3.  1.]\n",
            " [ 0.  0. -1.  2.]], shape=(4, 4), dtype=float32)\n",
            "tf.Tensor(\n",
            "[[ 5.  1.  0.  0.]\n",
            " [-1.  4.  1.  0.]\n",
            " [-2. -1.  3.  1.]\n",
            " [ 0. -2. -1.  2.]], shape=(4, 4), dtype=float32)\n"
          ]
        }
      ]
    },
    {
      "cell_type": "code",
      "source": [],
      "metadata": {
        "id": "Kuy30RWzvzHy"
      },
      "execution_count": null,
      "outputs": []
    },
    {
      "cell_type": "code",
      "source": [
        " print(tf.linalg.band_part(input, 0, -1)) # Upper triangular part.\n",
        " print(tf.linalg.band_part(input, -1, 0)) # Lower triangular part.\n",
        " print(tf.linalg.band_part(input, 0, 0)) # Diagonal."
      ],
      "metadata": {
        "colab": {
          "base_uri": "https://localhost:8080/"
        },
        "id": "YykxohuuwB9a",
        "outputId": "e25b3a6a-c10d-4279-9163-065a9915a7f2"
      },
      "execution_count": null,
      "outputs": [
        {
          "output_type": "stream",
          "name": "stdout",
          "text": [
            "tf.Tensor(\n",
            "[[5. 1. 2. 3.]\n",
            " [0. 4. 1. 2.]\n",
            " [0. 0. 3. 1.]\n",
            " [0. 0. 0. 2.]], shape=(4, 4), dtype=float32)\n",
            "tf.Tensor(\n",
            "[[ 5.  0.  0.  0.]\n",
            " [-1.  4.  0.  0.]\n",
            " [-2. -1.  3.  0.]\n",
            " [-3. -2. -1.  2.]], shape=(4, 4), dtype=float32)\n",
            "tf.Tensor(\n",
            "[[5. 0. 0. 0.]\n",
            " [0. 4. 0. 0.]\n",
            " [0. 0. 3. 0.]\n",
            " [0. 0. 0. 2.]], shape=(4, 4), dtype=float32)\n"
          ]
        }
      ]
    },
    {
      "cell_type": "code",
      "source": [
        "inv_two_d = tf.linalg.inv(input) # must be m == n & dtype = float32\n",
        "print(inv_two_d)"
      ],
      "metadata": {
        "colab": {
          "base_uri": "https://localhost:8080/"
        },
        "id": "IPg1XoDQxP2F",
        "outputId": "1d557d96-fda9-48a4-e8b3-69dd7bd6afff"
      },
      "execution_count": null,
      "outputs": [
        {
          "output_type": "stream",
          "name": "stdout",
          "text": [
            "tf.Tensor(\n",
            "[[ 0.11797752 -0.07865169 -0.07303371 -0.06179776]\n",
            " [-0.04494382  0.19662924 -0.06741572 -0.09550563]\n",
            " [ 0.01685394 -0.01123596  0.2752809  -0.15168539]\n",
            " [ 0.14044943  0.07303371 -0.03932585  0.23595506]], shape=(4, 4), dtype=float32)\n"
          ]
        }
      ]
    },
    {
      "cell_type": "code",
      "source": [
        "print(input@inv_two_d) #identity matrix"
      ],
      "metadata": {
        "colab": {
          "base_uri": "https://localhost:8080/"
        },
        "id": "J3-DWEHf0SDw",
        "outputId": "4a240d81-fcb9-4c36-e7c0-a988bcb95533"
      },
      "execution_count": null,
      "outputs": [
        {
          "output_type": "stream",
          "name": "stdout",
          "text": [
            "tf.Tensor(\n",
            "[[ 1.0000000e+00  2.9802322e-08  0.0000000e+00  0.0000000e+00]\n",
            " [ 1.4901161e-08  1.0000001e+00  0.0000000e+00 -1.4901161e-08]\n",
            " [ 0.0000000e+00 -2.2351742e-08  1.0000000e+00  2.9802322e-08]\n",
            " [ 0.0000000e+00 -4.4703484e-08 -2.9802322e-08  1.0000000e+00]], shape=(4, 4), dtype=float32)\n"
          ]
        }
      ]
    },
    {
      "cell_type": "code",
      "source": [
        " print(input)\n",
        " s,u,v = tf.linalg.svd(input)\n",
        " print(s)\n",
        " print(u)\n",
        " print(v)"
      ],
      "metadata": {
        "colab": {
          "base_uri": "https://localhost:8080/"
        },
        "id": "7PE9i-Pe1Q3n",
        "outputId": "0f9b15b8-6c7b-4247-d829-14787f5dc39e"
      },
      "execution_count": null,
      "outputs": [
        {
          "output_type": "stream",
          "name": "stdout",
          "text": [
            "tf.Tensor(\n",
            "[[ 5.  1.  2.  3.]\n",
            " [-1.  4.  1.  2.]\n",
            " [-2. -1.  3.  1.]\n",
            " [-3. -2. -1.  2.]], shape=(4, 4), dtype=float32)\n",
            "tf.Tensor([6.9071856 4.849908  3.932922  2.7020917], shape=(4,), dtype=float32)\n",
            "tf.Tensor(\n",
            "[[ 0.86190313  0.02946658  0.4517349   0.22845227]\n",
            " [ 0.25355366  0.75394666 -0.5939214   0.12055088]\n",
            " [-0.11985409  0.55115664  0.5179587  -0.643102  ]\n",
            " [-0.42245558  0.35626206  0.41822463  0.7209002 ]], shape=(4, 4), dtype=float32)\n",
            "tf.Tensor(\n",
            "[[ 0.8053983  -0.57273525  0.14289764  0.05374139]\n",
            " [ 0.41129375  0.36734125 -0.8335683  -0.03258308]\n",
            " [ 0.29538122  0.43507788  0.36746216 -0.76709104]\n",
            " [ 0.30809242  0.5896964   0.38693127  0.63845235]], shape=(4, 4), dtype=float32)\n"
          ]
        }
      ]
    },
    {
      "cell_type": "code",
      "source": [
        "### np.einsum\n",
        "Q = np.random.randn(32, 64, 512)\n",
        "K = np.random.randn(32, 128, 512)\n",
        "\n",
        "np.einsum('bqm,bkm -> bqk', Q, K).shape # QK^T"
      ],
      "metadata": {
        "colab": {
          "base_uri": "https://localhost:8080/"
        },
        "id": "WDXINF5R2RqY",
        "outputId": "7749705e-c27b-424e-e0ea-aedce094ad69"
      },
      "execution_count": null,
      "outputs": [
        {
          "output_type": "execute_result",
          "data": {
            "text/plain": [
              "(32, 64, 128)"
            ]
          },
          "metadata": {},
          "execution_count": 49
        }
      ]
    },
    {
      "cell_type": "code",
      "source": [
        "q = np.random.randn(2, 4, 4, 2) # bcij\n",
        "k = np.random.randn(2, 4, 4, 1) # bcik\n",
        "\n",
        "np.einsum('bcik,bcij -> bckj', k, q) # k^Tq"
      ],
      "metadata": {
        "colab": {
          "base_uri": "https://localhost:8080/"
        },
        "id": "_pIqFXWxj6Sq",
        "outputId": "c764fbd3-7798-40a6-894d-b5a66f32e37a"
      },
      "execution_count": null,
      "outputs": [
        {
          "output_type": "execute_result",
          "data": {
            "text/plain": [
              "array([[[[ 0.35224046,  3.32645162]],\n",
              "\n",
              "        [[-3.28268439,  5.67326784]],\n",
              "\n",
              "        [[ 3.1164247 ,  2.96778731]],\n",
              "\n",
              "        [[-1.13766647,  0.60610753]]],\n",
              "\n",
              "\n",
              "       [[[ 1.94558868, -0.11023614]],\n",
              "\n",
              "        [[ 5.92403246,  3.0469428 ]],\n",
              "\n",
              "        [[ 3.31873678,  1.16222682]],\n",
              "\n",
              "        [[-1.68281956,  2.69776126]]]])"
            ]
          },
          "metadata": {},
          "execution_count": 50
        }
      ]
    },
    {
      "cell_type": "code",
      "source": [
        "np.matmul(np.transpose(k,(0,1,3,2)),q)"
      ],
      "metadata": {
        "colab": {
          "base_uri": "https://localhost:8080/"
        },
        "id": "wPwSbzLwmNed",
        "outputId": "f7c3186b-b600-44d2-95c6-949b85bfc34f"
      },
      "execution_count": null,
      "outputs": [
        {
          "output_type": "execute_result",
          "data": {
            "text/plain": [
              "array([[[[ 0.35224046,  3.32645162]],\n",
              "\n",
              "        [[-3.28268439,  5.67326784]],\n",
              "\n",
              "        [[ 3.1164247 ,  2.96778731]],\n",
              "\n",
              "        [[-1.13766647,  0.60610753]]],\n",
              "\n",
              "\n",
              "       [[[ 1.94558868, -0.11023614]],\n",
              "\n",
              "        [[ 5.92403246,  3.0469428 ]],\n",
              "\n",
              "        [[ 3.31873678,  1.16222682]],\n",
              "\n",
              "        [[-1.68281956,  2.69776126]]]])"
            ]
          },
          "metadata": {},
          "execution_count": 51
        }
      ]
    },
    {
      "cell_type": "markdown",
      "source": [
        "### FUNCTIONS"
      ],
      "metadata": {
        "id": "RQllvc-KnqXF"
      }
    },
    {
      "cell_type": "code",
      "source": [
        "# tf.expand_dims\n",
        "three_dimensional_tensor =tf.constant(\n",
        "     [\n",
        "\t[\n",
        "\t\t[1, 2, 3],\n",
        "\t\t[4, 5, 6]\n",
        "\t],\n",
        "\t[\n",
        "\t\t[7, 8, 9],\n",
        "\t\t[10, 11, 12]\n",
        "\t]\n",
        "]\n",
        "\n",
        ")\n",
        "\n",
        "print(three_dimensional_tensor.shape)\n",
        "print(tf.expand_dims(three_dimensional_tensor, axis=0).shape)\n",
        "print(tf.expand_dims(three_dimensional_tensor, axis=1).shape)\n",
        "print(tf.expand_dims(three_dimensional_tensor, axis=2).shape)"
      ],
      "metadata": {
        "colab": {
          "base_uri": "https://localhost:8080/"
        },
        "id": "2uqYKcu6m3p3",
        "outputId": "aa5d5199-1260-41f3-8895-26eda4b9ccb7"
      },
      "execution_count": null,
      "outputs": [
        {
          "output_type": "stream",
          "name": "stdout",
          "text": [
            "(2, 2, 3)\n",
            "(1, 2, 2, 3)\n",
            "(2, 1, 2, 3)\n",
            "(2, 2, 1, 3)\n"
          ]
        }
      ]
    },
    {
      "cell_type": "code",
      "source": [
        "# tf.squeeze\n",
        "\n",
        "# Expand a dimension to size 1 at axis 0 for demonstration\n",
        "expanded_tensor = tf.expand_dims(three_dimensional_tensor, axis=0)\n",
        "print(\"Original shape:\", three_dimensional_tensor.shape)\n",
        "print(\"Expanded shape:\", expanded_tensor.shape)\n",
        "\n",
        "# Now squeeze the dimension of size 1 (axis 0)\n",
        "x_squeezed = tf.squeeze(expanded_tensor, axis=0)\n",
        "\n",
        "print(\"Squeezed tensor:\")\n",
        "print(x_squeezed)\n",
        "print(\"Squeezed shape:\", x_squeezed.shape)"
      ],
      "metadata": {
        "colab": {
          "base_uri": "https://localhost:8080/"
        },
        "id": "xoWk2yOJufZF",
        "outputId": "eff0e4ca-fe7d-498f-c7d1-9d0d41b13a06"
      },
      "execution_count": null,
      "outputs": [
        {
          "output_type": "stream",
          "name": "stdout",
          "text": [
            "Original shape: (2, 2, 3)\n",
            "Expanded shape: (1, 2, 2, 3)\n",
            "Squeezed tensor:\n",
            "tf.Tensor(\n",
            "[[[ 1  2  3]\n",
            "  [ 4  5  6]]\n",
            "\n",
            " [[ 7  8  9]\n",
            "  [10 11 12]]], shape=(2, 2, 3), dtype=int32)\n",
            "Squeezed shape: (2, 2, 3)\n"
          ]
        }
      ]
    },
    {
      "cell_type": "code",
      "source": [
        "# tf.reshape\n",
        "\n",
        "x_reshape = tf.constant([[1,2,3,4],\n",
        "                         [5,6,7,8]])\n",
        "print(x_reshape.shape)\n",
        "print(tf.reshape(x_reshape, [8]))\n",
        "print(tf.reshape(x_reshape, [4,2]))\n",
        "print(tf.reshape(x_reshape, [2,2,2]))\n",
        "print(tf.reshape(x_reshape, [4,-1]))\n",
        "print(tf.reshape(x_reshape, [4,1,-1]))# for -1, program automatically detect the desired shape\n"
      ],
      "metadata": {
        "colab": {
          "base_uri": "https://localhost:8080/"
        },
        "id": "2w4R2W-BY1eI",
        "outputId": "d6b09ea1-4f7d-418f-dbf0-ede3ba6a25ee"
      },
      "execution_count": null,
      "outputs": [
        {
          "output_type": "stream",
          "name": "stdout",
          "text": [
            "(2, 4)\n",
            "tf.Tensor([1 2 3 4 5 6 7 8], shape=(8,), dtype=int32)\n",
            "tf.Tensor(\n",
            "[[1 2]\n",
            " [3 4]\n",
            " [5 6]\n",
            " [7 8]], shape=(4, 2), dtype=int32)\n",
            "tf.Tensor(\n",
            "[[[1 2]\n",
            "  [3 4]]\n",
            "\n",
            " [[5 6]\n",
            "  [7 8]]], shape=(2, 2, 2), dtype=int32)\n",
            "tf.Tensor(\n",
            "[[1 2]\n",
            " [3 4]\n",
            " [5 6]\n",
            " [7 8]], shape=(4, 2), dtype=int32)\n",
            "tf.Tensor(\n",
            "[[[1 2]]\n",
            "\n",
            " [[3 4]]\n",
            "\n",
            " [[5 6]]\n",
            "\n",
            " [[7 8]]], shape=(4, 1, 2), dtype=int32)\n"
          ]
        }
      ]
    },
    {
      "cell_type": "code",
      "source": [
        "# tf.concat\n",
        "t1 = [[1, 2, 3], [4, 5, 6]]\n",
        "t2 = [[7, 8, 9], [10, 11, 12]]\n",
        "print(tf.concat([t1, t2], 0))\n",
        "print(tf.concat([t1, t2], 1))"
      ],
      "metadata": {
        "colab": {
          "base_uri": "https://localhost:8080/"
        },
        "id": "WdslkPXCc8p0",
        "outputId": "bc2fe541-2a2b-4c5c-ece1-68257edbf298"
      },
      "execution_count": null,
      "outputs": [
        {
          "output_type": "stream",
          "name": "stdout",
          "text": [
            "tf.Tensor(\n",
            "[[ 1  2  3]\n",
            " [ 4  5  6]\n",
            " [ 7  8  9]\n",
            " [10 11 12]], shape=(4, 3), dtype=int32)\n",
            "tf.Tensor(\n",
            "[[ 1  2  3  7  8  9]\n",
            " [ 4  5  6 10 11 12]], shape=(2, 6), dtype=int32)\n"
          ]
        }
      ]
    },
    {
      "cell_type": "code",
      "source": [
        "t1 = [[[1, 2, 3], [4, 5, 6]]]\n",
        "t2 = [[[7, 8, 9], [10, 11, 12]]]\n",
        "print(tf.constant(t1).shape)\n",
        "print(tf.constant(t2).shape)\n",
        "print(tf.concat([t1, t2], 0))\n",
        "print(tf.concat([t1, t2], 1))"
      ],
      "metadata": {
        "colab": {
          "base_uri": "https://localhost:8080/"
        },
        "id": "Ghk76klLgAtP",
        "outputId": "700bd1ec-888f-4a1a-c8c6-de92a22a641d"
      },
      "execution_count": null,
      "outputs": [
        {
          "output_type": "stream",
          "name": "stdout",
          "text": [
            "(1, 2, 3)\n",
            "(1, 2, 3)\n",
            "tf.Tensor(\n",
            "[[[ 1  2  3]\n",
            "  [ 4  5  6]]\n",
            "\n",
            " [[ 7  8  9]\n",
            "  [10 11 12]]], shape=(2, 2, 3), dtype=int32)\n",
            "tf.Tensor(\n",
            "[[[ 1  2  3]\n",
            "  [ 4  5  6]\n",
            "  [ 7  8  9]\n",
            "  [10 11 12]]], shape=(1, 4, 3), dtype=int32)\n"
          ]
        }
      ]
    },
    {
      "cell_type": "code",
      "source": [
        "# tf.stack\n",
        "t3 = tf.stack([t1, t2, t1], 0)\n",
        "print(t3)"
      ],
      "metadata": {
        "colab": {
          "base_uri": "https://localhost:8080/"
        },
        "id": "LJND6M3xhB4R",
        "outputId": "87925474-2460-4b45-9a0d-59039359489c"
      },
      "execution_count": null,
      "outputs": [
        {
          "output_type": "stream",
          "name": "stdout",
          "text": [
            "tf.Tensor(\n",
            "[[[[ 1  2  3]\n",
            "   [ 4  5  6]]]\n",
            "\n",
            "\n",
            " [[[ 7  8  9]\n",
            "   [10 11 12]]]\n",
            "\n",
            "\n",
            " [[[ 1  2  3]\n",
            "   [ 4  5  6]]]], shape=(3, 1, 2, 3), dtype=int32)\n"
          ]
        }
      ]
    },
    {
      "cell_type": "code",
      "source": [
        "# tf.pad\n",
        "\n",
        "t = tf.constant([[1, 2, 3], [4, 5, 6]])\n",
        "paddings = tf.constant([[1, 2,], [3, 4]]) # top, bottom, left, right\n",
        "print(tf.pad(t, paddings, \"CONSTANT\"))"
      ],
      "metadata": {
        "colab": {
          "base_uri": "https://localhost:8080/"
        },
        "id": "LjlA_Tw0nPvc",
        "outputId": "f33e0fa7-6ccd-4a1b-ce7e-c72764d52f38"
      },
      "execution_count": null,
      "outputs": [
        {
          "output_type": "stream",
          "name": "stdout",
          "text": [
            "tf.Tensor(\n",
            "[[0 0 0 0 0 0 0 0 0 0]\n",
            " [0 0 0 1 2 3 0 0 0 0]\n",
            " [0 0 0 4 5 6 0 0 0 0]\n",
            " [0 0 0 0 0 0 0 0 0 0]\n",
            " [0 0 0 0 0 0 0 0 0 0]], shape=(5, 10), dtype=int32)\n"
          ]
        }
      ]
    },
    {
      "cell_type": "code",
      "source": [
        "# tf.gather\n",
        "\n",
        "params = tf.constant(['p0', 'p1', 'p2', 'p3', 'p4', 'p5'])\n",
        "print(params[1:4])\n",
        "print(tf.gather(params,tf.range(1,4)))"
      ],
      "metadata": {
        "colab": {
          "base_uri": "https://localhost:8080/"
        },
        "id": "E75E3jd6HKMS",
        "outputId": "db6331c3-af0c-4172-80bb-0671d7fce9ac"
      },
      "execution_count": null,
      "outputs": [
        {
          "output_type": "stream",
          "name": "stdout",
          "text": [
            "tf.Tensor([b'p1' b'p2' b'p3'], shape=(3,), dtype=string)\n",
            "tf.Tensor([b'p1' b'p2' b'p3'], shape=(3,), dtype=string)\n"
          ]
        }
      ]
    },
    {
      "cell_type": "code",
      "source": [
        "\n",
        "input = tf.constant([[ 5,  1,  2, 3],\n",
        "                [-1,  4,  1, 2],\n",
        "                [-2, -1,  3, 1],\n",
        "                [-3, -2, -1, 2]], dtype=tf.float32)\n",
        "\n",
        "print(input.shape)\n",
        "print(tf.gather(input, [0,2], axis = 0))\n",
        "print(tf.gather(input, [0,2], axis = 1))"
      ],
      "metadata": {
        "colab": {
          "base_uri": "https://localhost:8080/"
        },
        "id": "-EC1mc83IxoU",
        "outputId": "043fed3f-afd8-48e0-fc38-08cd5a876dbc"
      },
      "execution_count": null,
      "outputs": [
        {
          "output_type": "stream",
          "name": "stdout",
          "text": [
            "(4, 4)\n",
            "tf.Tensor(\n",
            "[[ 5.  1.  2.  3.]\n",
            " [-2. -1.  3.  1.]], shape=(2, 4), dtype=float32)\n",
            "tf.Tensor(\n",
            "[[ 5.  2.]\n",
            " [-1.  1.]\n",
            " [-2.  3.]\n",
            " [-3. -1.]], shape=(4, 2), dtype=float32)\n"
          ]
        }
      ]
    },
    {
      "cell_type": "code",
      "source": [
        "input = tf.constant([\n",
        "\n",
        "                [[ 5,  1,  2, 3],\n",
        "                [-1,  4,  1, 2],\n",
        "                [-2, -1,  3, 1],\n",
        "                [-3, -2, -1, 2]]\n",
        "\n",
        "                ])\n",
        "\n",
        "print(input.shape)\n",
        "print(tf.gather(input, [0], axis = 0))\n",
        "print(tf.gather(input, [0,2], axis = 1))\n",
        "print(tf.gather(input, [0,2], axis = 2))"
      ],
      "metadata": {
        "colab": {
          "base_uri": "https://localhost:8080/"
        },
        "id": "tkqzaPyNKP4-",
        "outputId": "cd363e0c-e491-4b1e-8e3b-c56b004e4b95"
      },
      "execution_count": null,
      "outputs": [
        {
          "output_type": "stream",
          "name": "stdout",
          "text": [
            "(1, 4, 4)\n",
            "tf.Tensor(\n",
            "[[[ 5  1  2  3]\n",
            "  [-1  4  1  2]\n",
            "  [-2 -1  3  1]\n",
            "  [-3 -2 -1  2]]], shape=(1, 4, 4), dtype=int32)\n",
            "tf.Tensor(\n",
            "[[[ 5  1  2  3]\n",
            "  [-2 -1  3  1]]], shape=(1, 2, 4), dtype=int32)\n",
            "tf.Tensor(\n",
            "[[[ 5  2]\n",
            "  [-1  1]\n",
            "  [-2  3]\n",
            "  [-3 -1]]], shape=(1, 4, 2), dtype=int32)\n"
          ]
        }
      ]
    },
    {
      "cell_type": "code",
      "source": [
        "# tf.gather_nd\n",
        "\n",
        "indices=[[0,1]]\n",
        "params = [['a', 'b'],\n",
        "           ['c', 'd']]\n",
        "print(tf.gather_nd(params, indices))\n",
        "print(tf.gather(params, indices))"
      ],
      "metadata": {
        "colab": {
          "base_uri": "https://localhost:8080/"
        },
        "id": "TRLrE531K41P",
        "outputId": "74e5ed1f-a1fb-4c49-ce8e-4a895a020fca"
      },
      "execution_count": null,
      "outputs": [
        {
          "output_type": "stream",
          "name": "stdout",
          "text": [
            "tf.Tensor([b'b'], shape=(1,), dtype=string)\n",
            "tf.Tensor(\n",
            "[[[b'a' b'b']\n",
            "  [b'c' b'd']]], shape=(1, 2, 2), dtype=string)\n"
          ]
        }
      ]
    },
    {
      "cell_type": "code",
      "source": [
        "indices=[[0,1],[1,0]]\n",
        "params = [[['a', 'b'],\n",
        "           ['c', 'd']],\n",
        "          [['a0', 'b0'],\n",
        "           ['c0', 'd0']]]\n",
        "print(tf.gather_nd(params, indices))\n",
        "print(tf.gather(params, indices))\n",
        "\n",
        "print(tf.gather_nd(params, indices, batch_dims = 1))"
      ],
      "metadata": {
        "colab": {
          "base_uri": "https://localhost:8080/"
        },
        "id": "Uuos0ITkABP8",
        "outputId": "83c805cf-d3a1-49e3-df6a-0d7aa8d59329"
      },
      "execution_count": null,
      "outputs": [
        {
          "output_type": "stream",
          "name": "stdout",
          "text": [
            "tf.Tensor(\n",
            "[[b'c' b'd']\n",
            " [b'a0' b'b0']], shape=(2, 2), dtype=string)\n",
            "tf.Tensor(\n",
            "[[[[b'a' b'b']\n",
            "   [b'c' b'd']]\n",
            "\n",
            "  [[b'a0' b'b0']\n",
            "   [b'c0' b'd0']]]\n",
            "\n",
            "\n",
            " [[[b'a0' b'b0']\n",
            "   [b'c0' b'd0']]\n",
            "\n",
            "  [[b'a' b'b']\n",
            "   [b'c' b'd']]]], shape=(2, 2, 2, 2), dtype=string)\n",
            "tf.Tensor([b'b' b'c0'], shape=(2,), dtype=string)\n"
          ]
        }
      ]
    },
    {
      "cell_type": "markdown",
      "source": [
        "# Ragged Tensors"
      ],
      "metadata": {
        "id": "iNJd8stpF93Q"
      }
    },
    {
      "cell_type": "code",
      "source": [
        "tensor_two_d = tf.ragged.constant([\n",
        "    [1,2,3,4],\n",
        "    [5,6],\n",
        "    [9]\n",
        "])\n",
        "# Non-rectangular Tensor\n",
        "print(tensor_two_d.shape)"
      ],
      "metadata": {
        "colab": {
          "base_uri": "https://localhost:8080/"
        },
        "id": "eQuBKIw-Br3G",
        "outputId": "ea9a8cd4-6ee1-42d0-898f-883a7b4e2306"
      },
      "execution_count": null,
      "outputs": [
        {
          "output_type": "stream",
          "name": "stdout",
          "text": [
            "(3, None)\n"
          ]
        }
      ]
    },
    {
      "cell_type": "code",
      "source": [
        "print(tf.RaggedTensor.from_row_lengths(\n",
        "      values=[3, 1, 4, 1, 5, 9, 2, 6],\n",
        "      row_lengths=[4,0,3,1,0]))"
      ],
      "metadata": {
        "colab": {
          "base_uri": "https://localhost:8080/"
        },
        "id": "wFFZ_nifOYYq",
        "outputId": "8dcf2c36-7bbb-4766-ae00-fd2833a76a8f"
      },
      "execution_count": null,
      "outputs": [
        {
          "output_type": "stream",
          "name": "stdout",
          "text": [
            "<tf.RaggedTensor [[3, 1, 4, 1], [], [5, 9, 2], [6], []]>\n"
          ]
        }
      ]
    },
    {
      "cell_type": "code",
      "source": [
        "print(tf.RaggedTensor.from_row_limits(\n",
        "      values=[3, 1, 4, 1, 5, 9, 2, 6],\n",
        "      row_limits=[0, 4, 4, 7, 8, 8]))"
      ],
      "metadata": {
        "colab": {
          "base_uri": "https://localhost:8080/"
        },
        "id": "Z0hKQfthQ_Ow",
        "outputId": "329da458-8691-4ce0-bc13-342eaeb7f026"
      },
      "execution_count": null,
      "outputs": [
        {
          "output_type": "stream",
          "name": "stdout",
          "text": [
            "<tf.RaggedTensor [[], [3, 1, 4, 1], [], [5, 9, 2], [6], []]>\n"
          ]
        }
      ]
    },
    {
      "cell_type": "code",
      "source": [
        "print(tf.RaggedTensor.from_row_splits(\n",
        "      values=[3, 1, 4, 1, 5, 9, 2, 6],\n",
        "      row_splits=[0, 4, 4, 7, 8, 8]))"
      ],
      "metadata": {
        "colab": {
          "base_uri": "https://localhost:8080/"
        },
        "id": "YemQ3J9-SuS-",
        "outputId": "90eb7c89-719f-4f93-e00e-e503c68548c2"
      },
      "execution_count": null,
      "outputs": [
        {
          "output_type": "stream",
          "name": "stdout",
          "text": [
            "<tf.RaggedTensor [[3, 1, 4, 1], [], [5, 9, 2], [6], []]>\n"
          ]
        }
      ]
    },
    {
      "cell_type": "markdown",
      "source": [
        "# SPARSE TENSORS"
      ],
      "metadata": {
        "id": "xO_jYOEwUgMl"
      }
    },
    {
      "cell_type": "code",
      "source": [
        "sparse_tensor = tf.sparse.SparseTensor(\n",
        "    indices=[[0, 0], [1, 2]], values=[1, 2], dense_shape=[3, 4]\n",
        ")"
      ],
      "metadata": {
        "id": "-UlRE8uITZAY"
      },
      "execution_count": null,
      "outputs": []
    },
    {
      "cell_type": "code",
      "source": [
        "tf.sparse.to_dense(sparse_tensor)"
      ],
      "metadata": {
        "colab": {
          "base_uri": "https://localhost:8080/"
        },
        "id": "V8Wm2dLBY1M9",
        "outputId": "d2f2ad83-b284-4998-b79c-efc57e33b474"
      },
      "execution_count": null,
      "outputs": [
        {
          "output_type": "execute_result",
          "data": {
            "text/plain": [
              "<tf.Tensor: shape=(3, 4), dtype=int32, numpy=\n",
              "array([[1, 0, 0, 0],\n",
              "       [0, 0, 2, 0],\n",
              "       [0, 0, 0, 0]], dtype=int32)>"
            ]
          },
          "metadata": {},
          "execution_count": 91
        }
      ]
    },
    {
      "cell_type": "markdown",
      "source": [
        "# String Tensors"
      ],
      "metadata": {
        "id": "xvWLsuYuZTPE"
      }
    },
    {
      "cell_type": "code",
      "source": [
        "tf.strings.join([['abc','123'],\n",
        "                 ['def','456'],\n",
        "                 ['ghi','789']], separator=\"+\")"
      ],
      "metadata": {
        "colab": {
          "base_uri": "https://localhost:8080/"
        },
        "id": "m35CbbXGZFJW",
        "outputId": "edac4006-cded-4e71-8d34-b4f3b72b9f77"
      },
      "execution_count": null,
      "outputs": [
        {
          "output_type": "execute_result",
          "data": {
            "text/plain": [
              "<tf.Tensor: shape=(2,), dtype=string, numpy=array([b'abc+def+ghi', b'123+456+789'], dtype=object)>"
            ]
          },
          "metadata": {},
          "execution_count": 93
        }
      ]
    },
    {
      "cell_type": "markdown",
      "source": [
        "# Variables"
      ],
      "metadata": {
        "id": "W6gUy0ZyevdF"
      }
    },
    {
      "cell_type": "code",
      "source": [
        "x = tf.constant([1,2])\n",
        "x_var = tf.Variable(x, name = 'var1')\n",
        "print(x_var)"
      ],
      "metadata": {
        "colab": {
          "base_uri": "https://localhost:8080/"
        },
        "id": "tIvCS0dDaBpV",
        "outputId": "593506d4-b67e-46e6-e27b-dfd4b05b19d2"
      },
      "execution_count": null,
      "outputs": [
        {
          "output_type": "stream",
          "name": "stdout",
          "text": [
            "<tf.Variable 'var1:0' shape=(2,) dtype=int32, numpy=array([1, 2], dtype=int32)>\n"
          ]
        }
      ]
    },
    {
      "cell_type": "code",
      "source": [
        "x_var.assign_sub([3,4])"
      ],
      "metadata": {
        "colab": {
          "base_uri": "https://localhost:8080/"
        },
        "id": "f0FoCAI7e7bW",
        "outputId": "d4fe2d46-1648-42d1-dc34-26863831882b"
      },
      "execution_count": null,
      "outputs": [
        {
          "output_type": "execute_result",
          "data": {
            "text/plain": [
              "<tf.Variable 'UnreadVariable' shape=(2,) dtype=int32, numpy=array([-2, -2], dtype=int32)>"
            ]
          },
          "metadata": {},
          "execution_count": 95
        }
      ]
    },
    {
      "cell_type": "code",
      "source": [
        "print(x_var)"
      ],
      "metadata": {
        "colab": {
          "base_uri": "https://localhost:8080/"
        },
        "id": "5FGVD3SOffSN",
        "outputId": "1d0d7aa0-f18d-4a5b-892c-a772063fa7ac"
      },
      "execution_count": null,
      "outputs": [
        {
          "output_type": "stream",
          "name": "stdout",
          "text": [
            "<tf.Variable 'var1:0' shape=(2,) dtype=int32, numpy=array([-2, -2], dtype=int32)>\n"
          ]
        }
      ]
    },
    {
      "cell_type": "code",
      "source": [
        "x_var.assign_add([2,3])"
      ],
      "metadata": {
        "colab": {
          "base_uri": "https://localhost:8080/"
        },
        "id": "4Y2THFFjfswE",
        "outputId": "d372eddf-9598-4eeb-b2c5-e69b8411421c"
      },
      "execution_count": null,
      "outputs": [
        {
          "output_type": "execute_result",
          "data": {
            "text/plain": [
              "<tf.Variable 'UnreadVariable' shape=(2,) dtype=int32, numpy=array([0, 1], dtype=int32)>"
            ]
          },
          "metadata": {},
          "execution_count": 97
        }
      ]
    },
    {
      "cell_type": "code",
      "source": [
        "with tf.device('CPU:0'):\n",
        "  x_var = tf.Variable(0.2)\n",
        "  x_tensor = tf.constant(0.2)\n",
        "print(x_var.device)\n",
        "print(x_tensor.device)"
      ],
      "metadata": {
        "colab": {
          "base_uri": "https://localhost:8080/"
        },
        "id": "r5zQqoFpf3v6",
        "outputId": "d1335db8-98f1-453d-ad79-a746e951822a"
      },
      "execution_count": null,
      "outputs": [
        {
          "output_type": "stream",
          "name": "stdout",
          "text": [
            "/job:localhost/replica:0/task:0/device:CPU:0\n",
            "/job:localhost/replica:0/task:0/device:CPU:0\n"
          ]
        }
      ]
    },
    {
      "cell_type": "markdown",
      "source": [
        "# See you not for mind"
      ],
      "metadata": {
        "id": "8ziYjAWkh8aZ"
      }
    }
  ]
}