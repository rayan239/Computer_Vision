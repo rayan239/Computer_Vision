{
  "nbformat": 4,
  "nbformat_minor": 0,
  "metadata": {
    "colab": {
      "provenance": [],
      "gpuType": "T4",
      "include_colab_link": true
    },
    "kernelspec": {
      "name": "python3",
      "display_name": "Python 3"
    },
    "language_info": {
      "name": "python"
    },
    "accelerator": "GPU"
  },
  "cells": [
    {
      "cell_type": "markdown",
      "metadata": {
        "id": "view-in-github",
        "colab_type": "text"
      },
      "source": [
        "<a href=\"https://colab.research.google.com/github/rayan239/Computer_Vision/blob/main/garbage_df.ipynb\" target=\"_parent\"><img src=\"https://colab.research.google.com/assets/colab-badge.svg\" alt=\"Open In Colab\"/></a>"
      ]
    },
    {
      "cell_type": "code",
      "execution_count": 2,
      "metadata": {
        "id": "jgBUBLTUBYn1",
        "colab": {
          "base_uri": "https://localhost:8080/"
        },
        "outputId": "6c91716d-cc34-4944-863e-be8483797a81"
      },
      "outputs": [
        {
          "output_type": "stream",
          "name": "stdout",
          "text": [
            "Drive already mounted at /content/drive; to attempt to forcibly remount, call drive.mount(\"/content/drive\", force_remount=True).\n",
            "/content/garbage_project\n"
          ]
        }
      ],
      "source": [
        "from google.colab import drive\n",
        "drive.mount('/content/drive')\n",
        "\n",
        "# Working dir\n",
        "import os, pathlib, sys, random, numpy as np, tensorflow as tf\n",
        "WORK_DIR = '/content/garbage_project'\n",
        "os.makedirs(WORK_DIR, exist_ok=True)\n",
        "%cd $WORK_DIR\n"
      ]
    },
    {
      "cell_type": "code",
      "source": [
        "\n",
        "print(\"TensorFlow:\", tf.__version__)\n",
        "print(\"GPU:\", tf.config.list_physical_devices('GPU'))\n",
        "\n",
        "# (Optional) speed opts — safe on most Colab runtimes\n",
        "try:\n",
        "    tf.config.optimizer.set_jit(True)   # XLA\n",
        "except Exception as e:\n",
        "    print(\"XLA not enabled:\", e)\n",
        "try:\n",
        "    from tensorflow.keras.mixed_precision import set_global_policy\n",
        "    set_global_policy(\"mixed_float16\")  # automatic loss scaling on GPU\n",
        "    print(\"Mixed precision enabled.\")\n",
        "except Exception as e:\n",
        "    print(\"Mixed precision not enabled:\", e)"
      ],
      "metadata": {
        "id": "eVCbwKizP00E",
        "colab": {
          "base_uri": "https://localhost:8080/"
        },
        "outputId": "252cf70e-8b2c-4f49-e323-3a95199ce65a"
      },
      "execution_count": 3,
      "outputs": [
        {
          "output_type": "stream",
          "name": "stdout",
          "text": [
            "TensorFlow: 2.19.0\n",
            "GPU: [PhysicalDevice(name='/physical_device:GPU:0', device_type='GPU')]\n",
            "Mixed precision enabled.\n"
          ]
        }
      ]
    },
    {
      "cell_type": "code",
      "source": [
        "# =========================\n",
        "# Colab cell 2: Point to dataset dir\n",
        "# =========================\n",
        "from pathlib import Path\n",
        "from PIL import Image, UnidentifiedImageError\n",
        "import pandas as pd\n",
        "from collections import Counter\n",
        "import matplotlib.pyplot as plt\n",
        "\n",
        "# If using Kaggle: auto-discover class root\n",
        "def find_class_root(base: Path, target_classes):\n",
        "    targets = set(c.lower() for c in target_classes)\n",
        "    for p in [base] + list(base.rglob(\"*\")):\n",
        "        if p.is_dir():\n",
        "            subs = [d.name.lower() for d in p.iterdir() if d.is_dir()]\n",
        "            if len(set(subs) & targets) >= 9:\n",
        "                return p\n",
        "    return base\n",
        "\n",
        "TARGET_CLASSES = [\"battery\",\"biological\",\"cardboard\",\"clothes\",\"glass\",\"metal\",\"paper\",\"plastic\",\"shoes\",\"trash\"]\n",
        "ALLOWED_EXTS   = {\".jpg\",\".jpeg\",\".png\",\".bmp\",\".webp\",\".jfif\"}\n",
        "\n",
        "    # 👇 change this to your Drive dataset folder if not using Kaggle\n",
        "DATA_DIR = Path('/content/drive/MyDrive/garbage-dataset')\n",
        "\n",
        "\n",
        "# Enumerate files, filter non-images & corrupts\n",
        "all_rows, bad_files = [], []\n",
        "for cls_dir in sorted([d for d in DATA_DIR.iterdir() if d.is_dir()]):\n",
        "    cname = cls_dir.name.lower()\n",
        "    if cname not in [c.lower() for c in TARGET_CLASSES]:\n",
        "        continue\n",
        "    for f in cls_dir.rglob(\"*\"):\n",
        "        if f.is_file() and f.suffix.lower() in ALLOWED_EXTS:\n",
        "            try:\n",
        "                with Image.open(f) as im: im.verify()\n",
        "                all_rows.append({\"filepath\": str(f), \"label\": cls_dir.name})\n",
        "            except (UnidentifiedImageError, OSError, ValueError):\n",
        "                bad_files.append(str(f))\n",
        "        elif f.is_file():\n",
        "            bad_files.append(str(f))\n",
        "\n",
        "df_all = pd.DataFrame(all_rows)\n",
        "print(\"Total valid images:\", len(df_all), \" | Skipped bad/non-images:\", len(bad_files))\n",
        "\n",
        "# Class list & counts\n",
        "classes = sorted(df_all['label'].unique().tolist())\n",
        "print(\"Classes:\", classes)\n",
        "cnt = df_all['label'].value_counts().loc[classes]\n",
        "cnt.plot(kind=\"bar\", figsize=(10,3), title=\"Class Distribution — Full Dataset\")\n",
        "plt.xticks(rotation=45); plt.tight_layout(); plt.show()\n"
      ],
      "metadata": {
        "id": "0RMAuLILP1Gc",
        "colab": {
          "base_uri": "https://localhost:8080/",
          "height": 310
        },
        "outputId": "34f078d9-db36-44bf-b12e-3f2b82edf62c"
      },
      "execution_count": 4,
      "outputs": [
        {
          "output_type": "stream",
          "name": "stdout",
          "text": [
            "Total valid images: 19775  | Skipped bad/non-images: 0\n",
            "Classes: ['battery', 'biological', 'cardboard', 'clothes', 'glass', 'metal', 'paper', 'plastic', 'shoes', 'trash']\n"
          ]
        },
        {
          "output_type": "display_data",
          "data": {
            "text/plain": [
              "<Figure size 1000x300 with 1 Axes>"
            ],
            "image/png": "[encoded data removed]"
          },
          "metadata": {}
        }
      ]
    },
    {
      "cell_type": "code",
      "source": [
        "# =========================\n",
        "# Colab cell 3: Stratified 80/10/10 split\n",
        "# =========================\n",
        "from sklearn.model_selection import train_test_split\n",
        "import os\n",
        "\n",
        "SEED = 42\n",
        "train_df, temp_df = train_test_split(df_all, test_size=0.20, stratify=df_all['label'], random_state=SEED)\n",
        "val_df,   test_df = train_test_split(temp_df, test_size=0.50, stratify=temp_df['label'], random_state=SEED)\n",
        "\n",
        "print(\"Train:\", train_df.shape, \" Val:\", val_df.shape, \" Test:\", test_df.shape)\n",
        "\n",
        "# Save CSVs (reproducibility)\n",
        "os.makedirs(\"splits\", exist_ok=True)\n",
        "train_df.to_csv(\"splits/train.csv\", index=False)\n",
        "val_df.to_csv(\"splits/val.csv\", index=False)\n",
        "test_df.to_csv(\"splits/test.csv\", index=False)\n",
        "\n",
        "# Class distribution in each split\n",
        "fig, axes = plt.subplots(1,3, figsize=(16,4), sharey=True)\n",
        "for ax, df, title in zip(axes, [train_df,val_df,test_df], [\"Train\",\"Val\",\"Test\"]):\n",
        "    counts = df['label'].value_counts().loc[classes]\n",
        "    counts.plot(kind=\"bar\", ax=ax, title=title)\n",
        "    ax.tick_params(axis='x', rotation=60)\n",
        "plt.tight_layout(); plt.show()\n",
        "\n",
        "print(\"Saved splits to ./splits/ (include in paper supplementary).\")\n"
      ],
      "metadata": {
        "id": "H4slIwBhP4hS",
        "colab": {
          "base_uri": "https://localhost:8080/",
          "height": 268
        },
        "outputId": "4f3712ca-10d3-496b-dcd4-a6c2aca659f6"
      },
      "execution_count": 5,
      "outputs": [
        {
          "output_type": "stream",
          "name": "stdout",
          "text": [
            "Train: (15820, 2)  Val: (1977, 2)  Test: (1978, 2)\n"
          ]
        },
        {
          "output_type": "display_data",
          "data": {
            "text/plain": [
              "<Figure size 1600x400 with 3 Axes>"
            ],
            "image/png": "[encoded data removed]"
          },
          "metadata": {}
        },
        {
          "output_type": "stream",
          "name": "stdout",
          "text": [
            "Saved splits to ./splits/ (include in paper supplementary).\n"
          ]
        }
      ]
    },
    {
      "cell_type": "code",
      "source": [
        "# =========================\n",
        "# Colab cell 4: tf.data pipelines\n",
        "# =========================\n",
        "import tensorflow as tf\n",
        "import numpy as np # Added import for numpy\n",
        "AUTOTUNE = tf.data.AUTOTUNE\n",
        "IMG_SIZE = 224\n",
        "BATCH_SIZE = 32\n",
        "\n",
        "# Label mapping\n",
        "class_to_index = {c:i for i,c in enumerate(classes)}\n",
        "index_to_class = {i:c for c,i in class_to_index.items()}\n",
        "\n",
        "def df_to_dataset(df, shuffle=True, augment=False, cache=False):\n",
        "    paths  = df['filepath'].values\n",
        "    labels = df['label'].map(class_to_index).astype(np.int32).values\n",
        "    ds = tf.data.Dataset.from_tensor_slices((paths, labels))\n",
        "    if shuffle:\n",
        "        ds = ds.shuffle(min(len(paths), 4000), seed=SEED, reshuffle_each_iteration=True)\n",
        "    def _load(path, label):\n",
        "        img_b = tf.io.read_file(path)\n",
        "        img   = tf.io.decode_image(img_b, channels=3, expand_animations=False)   # force RGB\n",
        "        img.set_shape([None, None, 3])\n",
        "        img   = tf.image.resize(img, [IMG_SIZE, IMG_SIZE], method=\"bilinear\")\n",
        "        img   = tf.cast(img, tf.float32)  # keep 0..255; model preprocess will scale\n",
        "        return img, label\n",
        "    ds = ds.map(_load, num_parallel_calls=AUTOTUNE)\n",
        "\n",
        "    # Augment (train only): safe, fast ops\n",
        "    aug = tf.keras.Sequential([\n",
        "        tf.keras.layers.RandomFlip(\"horizontal\"),\n",
        "        tf.keras.layers.RandomRotation(0.08),\n",
        "        tf.keras.layers.RandomZoom(0.10),\n",
        "        tf.keras.layers.RandomContrast(0.10),\n",
        "    ], name=\"augment\")\n",
        "    def _aug(x,y):\n",
        "        # brightness jitter in [0..255]\n",
        "        x = tf.image.random_brightness(x, max_delta=20.0)\n",
        "        x = tf.clip_by_value(x, 0.0, 255.0)\n",
        "        x = aug(x, training=True)\n",
        "        return x, y\n",
        "    if augment:\n",
        "        ds = ds.map(_aug, num_parallel_calls=AUTOTUNE)\n",
        "\n",
        "    ds = ds.batch(BATCH_SIZE, drop_remainder=False)\n",
        "    if cache: ds = ds.cache()\n",
        "    ds = ds.prefetch(AUTOTUNE)\n",
        "    try:\n",
        "        ds = ds.apply(tf.data.experimental.ignore_errors())\n",
        "    except: pass\n",
        "    return ds\n",
        "\n",
        "train_ds = df_to_dataset(train_df, shuffle=True,  augment=True,  cache=False)\n",
        "val_ds   = df_to_dataset(val_df,   shuffle=False, augment=False, cache=False)\n",
        "test_ds  = df_to_dataset(test_df,  shuffle=False, augment=False, cache=False)\n",
        "\n",
        "for imgs, labs in train_ds.take(1):\n",
        "    print(\"Sanity batch:\", imgs.shape, labs.shape, imgs.dtype)"
      ],
      "metadata": {
        "id": "9Pk5c2dzRdQ0",
        "colab": {
          "base_uri": "https://localhost:8080/"
        },
        "outputId": "4151f5c9-ae98-41e0-bfab-14302e332fa2"
      },
      "execution_count": 6,
      "outputs": [
        {
          "output_type": "stream",
          "name": "stderr",
          "text": [
            "WARNING:tensorflow:From /tmp/ipython-input-1483026606.py:49: ignore_errors (from tensorflow.python.data.experimental.ops.error_ops) is deprecated and will be removed in a future version.\n",
            "Instructions for updating:\n",
            "Use `tf.data.Dataset.ignore_errors` instead.\n"
          ]
        },
        {
          "output_type": "stream",
          "name": "stdout",
          "text": [
            "Sanity batch: (32, 224, 224, 3) (32,) <dtype: 'float16'>\n"
          ]
        }
      ]
    },
    {
      "cell_type": "code",
      "source": [
        "# =========================\n",
        "# Colab cell 5: Class weights\n",
        "# =========================\n",
        "from sklearn.utils.class_weight import compute_class_weight\n",
        "y_train = train_df['label'].map(class_to_index).values\n",
        "cw = compute_class_weight(class_weight='balanced',\n",
        "                          classes=np.arange(len(classes)),\n",
        "                          y=y_train)\n",
        "CLASS_WEIGHTS = {i: float(w) for i,w in enumerate(cw)}\n",
        "print(\"Class weights:\", {index_to_class[i]: round(w,3) for i,w in CLASS_WEIGHTS.items()})\n"
      ],
      "metadata": {
        "id": "PS85BxKERgN4",
        "colab": {
          "base_uri": "https://localhost:8080/"
        },
        "outputId": "2f96a928-8f2a-4eec-cdc5-660fd627790a"
      },
      "execution_count": 7,
      "outputs": [
        {
          "output_type": "stream",
          "name": "stdout",
          "text": [
            "Class weights: {'battery': 2.095, 'biological': 1.982, 'cardboard': 1.084, 'clothes': 0.37, 'glass': 0.646, 'metal': 1.939, 'paper': 1.177, 'plastic': 0.997, 'shoes': 1.001, 'trash': 2.087}\n"
          ]
        }
      ]
    },
    {
      "cell_type": "code",
      "source": [
        "# =========================\n",
        "# Colab cell 6: Model build (EfficientNetB0)\n",
        "# =========================\n",
        "from tensorflow.keras import layers, models, optimizers\n",
        "\n",
        "from tensorflow.keras.applications.efficientnet import EfficientNetB0, preprocess_input as eff_preprocess\n",
        "\n",
        "def build_efficientnet_b0(input_shape=(IMG_SIZE,IMG_SIZE,3), num_classes=len(classes), dropout=0.4):\n",
        "    inputs = layers.Input(shape=input_shape, name=\"image\")\n",
        "    x = layers.Lambda(eff_preprocess, name=\"preprocess\")(inputs)  # expects 0..255 input\n",
        "    base = EfficientNetB0(include_top=False, weights=\"imagenet\", input_shape=input_shape)\n",
        "    base.trainable = False\n",
        "    x = base(x)                                   # keep BN frozen while base is frozen\n",
        "    x = layers.GlobalAveragePooling2D()(x)\n",
        "    x = layers.Dropout(dropout)(x)\n",
        "    outputs = layers.Dense(num_classes, activation='softmax', dtype=\"float32\")(x)  # force float32 head if mixed precision\n",
        "    model = models.Model(inputs, outputs, name=\"EfficientNetB0_Garbage\")\n",
        "    # convenient handles\n",
        "    model._base = base\n",
        "    model._unfreeze_k = 25\n",
        "    model.summary(line_length=110)\n",
        "    trainable = np.sum([np.prod(v.shape) for v in model.trainable_weights])\n",
        "    nontrain  = np.sum([np.prod(v.shape) for v in model.non_trainable_weights])\n",
        "    print(f\"Trainable params: {trainable:,} | Non-trainable: {nontrain:,}\")\n",
        "    return model\n",
        "\n",
        "model = build_efficientnet_b0()\n"
      ],
      "metadata": {
        "id": "vrncFWNaRoE-",
        "colab": {
          "base_uri": "https://localhost:8080/",
          "height": 401
        },
        "outputId": "0650e9c1-ab81-4226-e6de-289f6c876563"
      },
      "execution_count": 8,
      "outputs": [
        {
          "output_type": "stream",
          "name": "stdout",
          "text": [
            "Downloading data from https://storage.googleapis.com/keras-applications/efficientnetb0_notop.h5\n",
            "\u001b[1m16705208/16705208\u001b[0m \u001b[32m━━━━━━━━━━━━━━━━━━━━\u001b[0m\u001b[37m\u001b[0m \u001b[1m0s\u001b[0m 0us/step\n"
          ]
        },
        {
          "output_type": "display_data",
          "data": {
            "text/plain": [
              "\u001b[1mModel: \"EfficientNetB0_Garbage\"\u001b[0m\n"
            ],
            "text/html": [
              "<pre style=\"white-space:pre;overflow-x:auto;line-height:normal;font-family:Menlo,'DejaVu Sans Mono',consolas,'Courier New',monospace\"><span style=\"font-weight: bold\">Model: \"EfficientNetB0_Garbage\"</span>\n",
              "</pre>\n"
            ]
          },
          "metadata": {}
        },
        {
          "output_type": "display_data",
          "data": {
            "text/plain": [
              "┏━━━━━━━━━━━━━━━━━━━━━━━━━━━━━━━━━━━━━━━━━━━━━━━━┳━━━━━━━━━━━━━━━━━━━━━━━━━━━━━━━━━━━━━┳━━━━━━━━━━━━━━━━━━━━━┓\n",
              "┃\u001b[1m \u001b[0m\u001b[1mLayer (type)                                  \u001b[0m\u001b[1m \u001b[0m┃\u001b[1m \u001b[0m\u001b[1mOutput Shape                       \u001b[0m\u001b[1m \u001b[0m┃\u001b[1m \u001b[0m\u001b[1m            Param #\u001b[0m\u001b[1m \u001b[0m┃\n",
              "┡━━━━━━━━━━━━━━━━━━━━━━━━━━━━━━━━━━━━━━━━━━━━━━━━╇━━━━━━━━━━━━━━━━━━━━━━━━━━━━━━━━━━━━━╇━━━━━━━━━━━━━━━━━━━━━┩\n",
              "│ image (\u001b[38;5;33mInputLayer\u001b[0m)                             │ (\u001b[38;5;45mNone\u001b[0m, \u001b[38;5;34m224\u001b[0m, \u001b[38;5;34m224\u001b[0m, \u001b[38;5;34m3\u001b[0m)                 │                   \u001b[38;5;34m0\u001b[0m │\n",
              "├────────────────────────────────────────────────┼─────────────────────────────────────┼─────────────────────┤\n",
              "│ preprocess (\u001b[38;5;33mLambda\u001b[0m)                            │ (\u001b[38;5;45mNone\u001b[0m, \u001b[38;5;34m224\u001b[0m, \u001b[38;5;34m224\u001b[0m, \u001b[38;5;34m3\u001b[0m)                 │                   \u001b[38;5;34m0\u001b[0m │\n",
              "├────────────────────────────────────────────────┼─────────────────────────────────────┼─────────────────────┤\n",
              "│ efficientnetb0 (\u001b[38;5;33mFunctional\u001b[0m)                    │ (\u001b[38;5;45mNone\u001b[0m, \u001b[38;5;34m7\u001b[0m, \u001b[38;5;34m7\u001b[0m, \u001b[38;5;34m1280\u001b[0m)                  │           \u001b[38;5;34m4,049,571\u001b[0m │\n",
              "├────────────────────────────────────────────────┼─────────────────────────────────────┼─────────────────────┤\n",
              "│ global_average_pooling2d                       │ (\u001b[38;5;45mNone\u001b[0m, \u001b[38;5;34m1280\u001b[0m)                        │                   \u001b[38;5;34m0\u001b[0m │\n",
              "│ (\u001b[38;5;33mGlobalAveragePooling2D\u001b[0m)                       │                                     │                     │\n",
              "├────────────────────────────────────────────────┼─────────────────────────────────────┼─────────────────────┤\n",
              "│ dropout (\u001b[38;5;33mDropout\u001b[0m)                              │ (\u001b[38;5;45mNone\u001b[0m, \u001b[38;5;34m1280\u001b[0m)                        │                   \u001b[38;5;34m0\u001b[0m │\n",
              "├────────────────────────────────────────────────┼─────────────────────────────────────┼─────────────────────┤\n",
              "│ dense (\u001b[38;5;33mDense\u001b[0m)                                  │ (\u001b[38;5;45mNone\u001b[0m, \u001b[38;5;34m10\u001b[0m)                          │              \u001b[38;5;34m12,810\u001b[0m │\n",
              "└────────────────────────────────────────────────┴─────────────────────────────────────┴─────────────────────┘\n"
            ],
            "text/html": [
              "<pre style=\"white-space:pre;overflow-x:auto;line-height:normal;font-family:Menlo,'DejaVu Sans Mono',consolas,'Courier New',monospace\">┏━━━━━━━━━━━━━━━━━━━━━━━━━━━━━━━━━━━━━━━━━━━━━━━━┳━━━━━━━━━━━━━━━━━━━━━━━━━━━━━━━━━━━━━┳━━━━━━━━━━━━━━━━━━━━━┓\n",
              "┃<span style=\"font-weight: bold\"> Layer (type)                                   </span>┃<span style=\"font-weight: bold\"> Output Shape                        </span>┃<span style=\"font-weight: bold\">             Param # </span>┃\n",
              "┡━━━━━━━━━━━━━━━━━━━━━━━━━━━━━━━━━━━━━━━━━━━━━━━━╇━━━━━━━━━━━━━━━━━━━━━━━━━━━━━━━━━━━━━╇━━━━━━━━━━━━━━━━━━━━━┩\n",
              "│ image (<span style=\"color: #0087ff; text-decoration-color: #0087ff\">InputLayer</span>)                             │ (<span style=\"color: #00d7ff; text-decoration-color: #00d7ff\">None</span>, <span style=\"color: #00af00; text-decoration-color: #00af00\">224</span>, <span style=\"color: #00af00; text-decoration-color: #00af00\">224</span>, <span style=\"color: #00af00; text-decoration-color: #00af00\">3</span>)                 │                   <span style=\"color: #00af00; text-decoration-color: #00af00\">0</span> │\n",
              "├────────────────────────────────────────────────┼─────────────────────────────────────┼─────────────────────┤\n",
              "│ preprocess (<span style=\"color: #0087ff; text-decoration-color: #0087ff\">Lambda</span>)                            │ (<span style=\"color: #00d7ff; text-decoration-color: #00d7ff\">None</span>, <span style=\"color: #00af00; text-decoration-color: #00af00\">224</span>, <span style=\"color: #00af00; text-decoration-color: #00af00\">224</span>, <span style=\"color: #00af00; text-decoration-color: #00af00\">3</span>)                 │                   <span style=\"color: #00af00; text-decoration-color: #00af00\">0</span> │\n",
              "├────────────────────────────────────────────────┼─────────────────────────────────────┼─────────────────────┤\n",
              "│ efficientnetb0 (<span style=\"color: #0087ff; text-decoration-color: #0087ff\">Functional</span>)                    │ (<span style=\"color: #00d7ff; text-decoration-color: #00d7ff\">None</span>, <span style=\"color: #00af00; text-decoration-color: #00af00\">7</span>, <span style=\"color: #00af00; text-decoration-color: #00af00\">7</span>, <span style=\"color: #00af00; text-decoration-color: #00af00\">1280</span>)                  │           <span style=\"color: #00af00; text-decoration-color: #00af00\">4,049,571</span> │\n",
              "├────────────────────────────────────────────────┼─────────────────────────────────────┼─────────────────────┤\n",
              "│ global_average_pooling2d                       │ (<span style=\"color: #00d7ff; text-decoration-color: #00d7ff\">None</span>, <span style=\"color: #00af00; text-decoration-color: #00af00\">1280</span>)                        │                   <span style=\"color: #00af00; text-decoration-color: #00af00\">0</span> │\n",
              "│ (<span style=\"color: #0087ff; text-decoration-color: #0087ff\">GlobalAveragePooling2D</span>)                       │                                     │                     │\n",
              "├────────────────────────────────────────────────┼─────────────────────────────────────┼─────────────────────┤\n",
              "│ dropout (<span style=\"color: #0087ff; text-decoration-color: #0087ff\">Dropout</span>)                              │ (<span style=\"color: #00d7ff; text-decoration-color: #00d7ff\">None</span>, <span style=\"color: #00af00; text-decoration-color: #00af00\">1280</span>)                        │                   <span style=\"color: #00af00; text-decoration-color: #00af00\">0</span> │\n",
              "├────────────────────────────────────────────────┼─────────────────────────────────────┼─────────────────────┤\n",
              "│ dense (<span style=\"color: #0087ff; text-decoration-color: #0087ff\">Dense</span>)                                  │ (<span style=\"color: #00d7ff; text-decoration-color: #00d7ff\">None</span>, <span style=\"color: #00af00; text-decoration-color: #00af00\">10</span>)                          │              <span style=\"color: #00af00; text-decoration-color: #00af00\">12,810</span> │\n",
              "└────────────────────────────────────────────────┴─────────────────────────────────────┴─────────────────────┘\n",
              "</pre>\n"
            ]
          },
          "metadata": {}
        },
        {
          "output_type": "display_data",
          "data": {
            "text/plain": [
              "\u001b[1m Total params: \u001b[0m\u001b[38;5;34m4,062,381\u001b[0m (15.50 MB)\n"
            ],
            "text/html": [
              "<pre style=\"white-space:pre;overflow-x:auto;line-height:normal;font-family:Menlo,'DejaVu Sans Mono',consolas,'Courier New',monospace\"><span style=\"font-weight: bold\"> Total params: </span><span style=\"color: #00af00; text-decoration-color: #00af00\">4,062,381</span> (15.50 MB)\n",
              "</pre>\n"
            ]
          },
          "metadata": {}
        },
        {
          "output_type": "display_data",
          "data": {
            "text/plain": [
              "\u001b[1m Trainable params: \u001b[0m\u001b[38;5;34m12,810\u001b[0m (50.04 KB)\n"
            ],
            "text/html": [
              "<pre style=\"white-space:pre;overflow-x:auto;line-height:normal;font-family:Menlo,'DejaVu Sans Mono',consolas,'Courier New',monospace\"><span style=\"font-weight: bold\"> Trainable params: </span><span style=\"color: #00af00; text-decoration-color: #00af00\">12,810</span> (50.04 KB)\n",
              "</pre>\n"
            ]
          },
          "metadata": {}
        },
        {
          "output_type": "display_data",
          "data": {
            "text/plain": [
              "\u001b[1m Non-trainable params: \u001b[0m\u001b[38;5;34m4,049,571\u001b[0m (15.45 MB)\n"
            ],
            "text/html": [
              "<pre style=\"white-space:pre;overflow-x:auto;line-height:normal;font-family:Menlo,'DejaVu Sans Mono',consolas,'Courier New',monospace\"><span style=\"font-weight: bold\"> Non-trainable params: </span><span style=\"color: #00af00; text-decoration-color: #00af00\">4,049,571</span> (15.45 MB)\n",
              "</pre>\n"
            ]
          },
          "metadata": {}
        },
        {
          "output_type": "stream",
          "name": "stdout",
          "text": [
            "Trainable params: 12,810 | Non-trainable: 4,049,571.0\n"
          ]
        }
      ]
    },
    {
      "cell_type": "code",
      "source": [
        "# =========================\n",
        "# Colab cell 7: Stage A training (head only)\n",
        "# =========================\n",
        "import time\n",
        "class EpochTimer(tf.keras.callbacks.Callback):\n",
        "    def on_train_begin(self, logs=None): self.times=[]\n",
        "    def on_epoch_begin(self, epoch, logs=None): self._t=time.time()\n",
        "    def on_epoch_end(self, epoch, logs=None): self.times.append(time.time()-self._t)\n",
        "\n",
        "EPOCHS_STAGE1 = 10\n",
        "timerA = EpochTimer()\n",
        "model.compile(\n",
        "    optimizer=optimizers.Adam(learning_rate=1e-3),\n",
        "    loss=tf.keras.losses.SparseCategoricalCrossentropy(),\n",
        "    metrics=['accuracy']\n",
        ")\n",
        "cbA = [\n",
        "    tf.keras.callbacks.ModelCheckpoint(\"best_stage1.h5\", monitor=\"val_loss\", save_best_only=True, verbose=1),\n",
        "    tf.keras.callbacks.ReduceLROnPlateau(monitor=\"val_loss\", factor=0.5, patience=2, min_lr=1e-7, verbose=1),\n",
        "    tf.keras.callbacks.EarlyStopping(monitor=\"val_loss\", patience=5, restore_best_weights=True, verbose=1),\n",
        "    timerA\n",
        "]\n",
        "histA = model.fit(train_ds, validation_data=val_ds, epochs=EPOCHS_STAGE1,\n",
        "                  class_weight=CLASS_WEIGHTS, callbacks=cbA, verbose=1)\n"
      ],
      "metadata": {
        "id": "lWFVplsJRsAf",
        "colab": {
          "base_uri": "https://localhost:8080/"
        },
        "outputId": "5dc6d42f-7829-4b22-d0d5-d00ee394c632"
      },
      "execution_count": 9,
      "outputs": [
        {
          "output_type": "stream",
          "name": "stdout",
          "text": [
            "Epoch 1/10\n",
            "    492/Unknown \u001b[1m480s\u001b[0m 853ms/step - accuracy: 0.7251 - loss: 1.0183"
          ]
        },
        {
          "output_type": "stream",
          "name": "stderr",
          "text": [
            "/usr/local/lib/python3.12/dist-packages/keras/src/trainers/epoch_iterator.py:160: UserWarning: Your input ran out of data; interrupting training. Make sure that your dataset or generator can generate at least `steps_per_epoch * epochs` batches. You may need to use the `.repeat()` function when building your dataset.\n",
            "  self._interrupted_warning()\n"
          ]
        },
        {
          "output_type": "stream",
          "name": "stdout",
          "text": [
            "\n",
            "Epoch 1: val_loss improved from inf to 0.25307, saving model to best_stage1.h5\n"
          ]
        },
        {
          "output_type": "stream",
          "name": "stderr",
          "text": [
            "WARNING:absl:You are saving your model as an HDF5 file via `model.save()` or `keras.saving.save_model(model)`. This file format is considered legacy. We recommend using instead the native Keras format, e.g. `model.save('my_model.keras')` or `keras.saving.save_model(model, 'my_model.keras')`. \n"
          ]
        },
        {
          "output_type": "stream",
          "name": "stdout",
          "text": [
            "\b\b\b\b\b\b\b\b\b\b\b\b\b\b\b\b\b\b\b\b\b\b\b\b\b\b\b\b\b\b\b\b\b\b\b\b\b\b\b\b\b\b\b\b\b\b\b\b\b\b\b\b\b\b\b\b\b\b\b\b\b\b\b\b\b\r\u001b[1m492/492\u001b[0m \u001b[32m━━━━━━━━━━━━━━━━━━━━\u001b[0m\u001b[37m\u001b[0m \u001b[1m547s\u001b[0m 989ms/step - accuracy: 0.7253 - loss: 1.0175 - val_accuracy: 0.9191 - val_loss: 0.2531 - learning_rate: 0.0010\n",
            "Epoch 2/10\n",
            "\u001b[1m492/492\u001b[0m \u001b[32m━━━━━━━━━━━━━━━━━━━━\u001b[0m\u001b[37m\u001b[0m \u001b[1m0s\u001b[0m 572ms/step - accuracy: 0.8968 - loss: 0.3596\n",
            "Epoch 2: val_loss improved from 0.25307 to 0.20687, saving model to best_stage1.h5\n"
          ]
        },
        {
          "output_type": "stream",
          "name": "stderr",
          "text": [
            "WARNING:absl:You are saving your model as an HDF5 file via `model.save()` or `keras.saving.save_model(model)`. This file format is considered legacy. We recommend using instead the native Keras format, e.g. `model.save('my_model.keras')` or `keras.saving.save_model(model, 'my_model.keras')`. \n"
          ]
        },
        {
          "output_type": "stream",
          "name": "stdout",
          "text": [
            "\b\b\b\b\b\b\b\b\b\b\b\b\b\b\b\b\b\b\b\b\b\b\b\b\b\b\b\b\b\b\b\b\b\b\b\b\b\b\b\b\b\b\b\b\b\b\b\b\b\b\b\b\b\b\b\b\b\b\b\b\b\b\b\b\b\b\b\b\b\b\b\b\b\b\b\b\r\u001b[1m492/492\u001b[0m \u001b[32m━━━━━━━━━━━━━━━━━━━━\u001b[0m\u001b[37m\u001b[0m \u001b[1m290s\u001b[0m 589ms/step - accuracy: 0.8968 - loss: 0.3595 - val_accuracy: 0.9307 - val_loss: 0.2069 - learning_rate: 0.0010\n",
            "Epoch 3/10\n",
            "\u001b[1m492/492\u001b[0m \u001b[32m━━━━━━━━━━━━━━━━━━━━\u001b[0m\u001b[37m\u001b[0m \u001b[1m0s\u001b[0m 567ms/step - accuracy: 0.9075 - loss: 0.3152\n",
            "Epoch 3: val_loss improved from 0.20687 to 0.19319, saving model to best_stage1.h5\n"
          ]
        },
        {
          "output_type": "stream",
          "name": "stderr",
          "text": [
            "WARNING:absl:You are saving your model as an HDF5 file via `model.save()` or `keras.saving.save_model(model)`. This file format is considered legacy. We recommend using instead the native Keras format, e.g. `model.save('my_model.keras')` or `keras.saving.save_model(model, 'my_model.keras')`. \n"
          ]
        },
        {
          "output_type": "stream",
          "name": "stdout",
          "text": [
            "\b\b\b\b\b\b\b\b\b\b\b\b\b\b\b\b\b\b\b\b\b\b\b\b\b\b\b\b\b\b\b\b\b\b\b\b\b\b\b\b\b\b\b\b\b\b\b\b\b\b\b\b\b\b\b\b\b\b\b\b\b\b\b\b\b\b\b\b\b\b\b\b\b\b\b\b\r\u001b[1m492/492\u001b[0m \u001b[32m━━━━━━━━━━━━━━━━━━━━\u001b[0m\u001b[37m\u001b[0m \u001b[1m288s\u001b[0m 584ms/step - accuracy: 0.9075 - loss: 0.3152 - val_accuracy: 0.9383 - val_loss: 0.1932 - learning_rate: 0.0010\n",
            "Epoch 4/10\n",
            "\u001b[1m492/492\u001b[0m \u001b[32m━━━━━━━━━━━━━━━━━━━━\u001b[0m\u001b[37m\u001b[0m \u001b[1m0s\u001b[0m 570ms/step - accuracy: 0.9162 - loss: 0.2832\n",
            "Epoch 4: val_loss improved from 0.19319 to 0.17745, saving model to best_stage1.h5\n"
          ]
        },
        {
          "output_type": "stream",
          "name": "stderr",
          "text": [
            "WARNING:absl:You are saving your model as an HDF5 file via `model.save()` or `keras.saving.save_model(model)`. This file format is considered legacy. We recommend using instead the native Keras format, e.g. `model.save('my_model.keras')` or `keras.saving.save_model(model, 'my_model.keras')`. \n"
          ]
        },
        {
          "output_type": "stream",
          "name": "stdout",
          "text": [
            "\b\b\b\b\b\b\b\b\b\b\b\b\b\b\b\b\b\b\b\b\b\b\b\b\b\b\b\b\b\b\b\b\b\b\b\b\b\b\b\b\b\b\b\b\b\b\b\b\b\b\b\b\b\b\b\b\b\b\b\b\b\b\b\b\b\b\b\b\b\b\b\b\b\b\b\b\r\u001b[1m492/492\u001b[0m \u001b[32m━━━━━━━━━━━━━━━━━━━━\u001b[0m\u001b[37m\u001b[0m \u001b[1m288s\u001b[0m 586ms/step - accuracy: 0.9162 - loss: 0.2832 - val_accuracy: 0.9408 - val_loss: 0.1774 - learning_rate: 0.0010\n",
            "Epoch 5/10\n",
            "\u001b[1m492/492\u001b[0m \u001b[32m━━━━━━━━━━━━━━━━━━━━\u001b[0m\u001b[37m\u001b[0m \u001b[1m0s\u001b[0m 569ms/step - accuracy: 0.9215 - loss: 0.2600\n",
            "Epoch 5: val_loss did not improve from 0.17745\n",
            "\u001b[1m492/492\u001b[0m \u001b[32m━━━━━━━━━━━━━━━━━━━━\u001b[0m\u001b[37m\u001b[0m \u001b[1m322s\u001b[0m 586ms/step - accuracy: 0.9215 - loss: 0.2600 - val_accuracy: 0.9413 - val_loss: 0.1835 - learning_rate: 0.0010\n",
            "Epoch 6/10\n",
            "\u001b[1m492/492\u001b[0m \u001b[32m━━━━━━━━━━━━━━━━━━━━\u001b[0m\u001b[37m\u001b[0m \u001b[1m0s\u001b[0m 566ms/step - accuracy: 0.9248 - loss: 0.2511\n",
            "Epoch 6: val_loss did not improve from 0.17745\n",
            "\n",
            "Epoch 6: ReduceLROnPlateau reducing learning rate to 0.0005000000237487257.\n",
            "\u001b[1m492/492\u001b[0m \u001b[32m━━━━━━━━━━━━━━━━━━━━\u001b[0m\u001b[37m\u001b[0m \u001b[1m287s\u001b[0m 583ms/step - accuracy: 0.9248 - loss: 0.2511 - val_accuracy: 0.9408 - val_loss: 0.1819 - learning_rate: 0.0010\n",
            "Epoch 7/10\n",
            "\u001b[1m492/492\u001b[0m \u001b[32m━━━━━━━━━━━━━━━━━━━━\u001b[0m\u001b[37m\u001b[0m \u001b[1m0s\u001b[0m 568ms/step - accuracy: 0.9279 - loss: 0.2315\n",
            "Epoch 7: val_loss improved from 0.17745 to 0.17133, saving model to best_stage1.h5\n"
          ]
        },
        {
          "output_type": "stream",
          "name": "stderr",
          "text": [
            "WARNING:absl:You are saving your model as an HDF5 file via `model.save()` or `keras.saving.save_model(model)`. This file format is considered legacy. We recommend using instead the native Keras format, e.g. `model.save('my_model.keras')` or `keras.saving.save_model(model, 'my_model.keras')`. \n"
          ]
        },
        {
          "output_type": "stream",
          "name": "stdout",
          "text": [
            "\b\b\b\b\b\b\b\b\b\b\b\b\b\b\b\b\b\b\b\b\b\b\b\b\b\b\b\b\b\b\b\b\b\b\b\b\b\b\b\b\b\b\b\b\b\b\b\b\b\b\b\b\b\b\b\b\b\b\b\b\b\b\b\b\b\b\b\b\b\b\b\b\b\b\b\b\r\u001b[1m492/492\u001b[0m \u001b[32m━━━━━━━━━━━━━━━━━━━━\u001b[0m\u001b[37m\u001b[0m \u001b[1m347s\u001b[0m 706ms/step - accuracy: 0.9279 - loss: 0.2315 - val_accuracy: 0.9454 - val_loss: 0.1713 - learning_rate: 5.0000e-04\n",
            "Epoch 8/10\n",
            "\u001b[1m492/492\u001b[0m \u001b[32m━━━━━━━━━━━━━━━━━━━━\u001b[0m\u001b[37m\u001b[0m \u001b[1m0s\u001b[0m 598ms/step - accuracy: 0.9294 - loss: 0.2328\n",
            "Epoch 8: val_loss improved from 0.17133 to 0.16455, saving model to best_stage1.h5\n"
          ]
        },
        {
          "output_type": "stream",
          "name": "stderr",
          "text": [
            "WARNING:absl:You are saving your model as an HDF5 file via `model.save()` or `keras.saving.save_model(model)`. This file format is considered legacy. We recommend using instead the native Keras format, e.g. `model.save('my_model.keras')` or `keras.saving.save_model(model, 'my_model.keras')`. \n"
          ]
        },
        {
          "output_type": "stream",
          "name": "stdout",
          "text": [
            "\b\b\b\b\b\b\b\b\b\b\b\b\b\b\b\b\b\b\b\b\b\b\b\b\b\b\b\b\b\b\b\b\b\b\b\b\b\b\b\b\b\b\b\b\b\b\b\b\b\b\b\b\b\b\b\b\b\b\b\b\b\b\b\b\b\b\b\b\b\b\b\b\b\b\b\b\r\u001b[1m492/492\u001b[0m \u001b[32m━━━━━━━━━━━━━━━━━━━━\u001b[0m\u001b[37m\u001b[0m \u001b[1m304s\u001b[0m 617ms/step - accuracy: 0.9294 - loss: 0.2328 - val_accuracy: 0.9494 - val_loss: 0.1646 - learning_rate: 5.0000e-04\n",
            "Epoch 9/10\n",
            "\u001b[1m492/492\u001b[0m \u001b[32m━━━━━━━━━━━━━━━━━━━━\u001b[0m\u001b[37m\u001b[0m \u001b[1m0s\u001b[0m 600ms/step - accuracy: 0.9289 - loss: 0.2315\n",
            "Epoch 9: val_loss did not improve from 0.16455\n",
            "\u001b[1m492/492\u001b[0m \u001b[32m━━━━━━━━━━━━━━━━━━━━\u001b[0m\u001b[37m\u001b[0m \u001b[1m304s\u001b[0m 618ms/step - accuracy: 0.9289 - loss: 0.2315 - val_accuracy: 0.9489 - val_loss: 0.1664 - learning_rate: 5.0000e-04\n",
            "Epoch 10/10\n",
            "\u001b[1m493/492\u001b[0m \u001b[32m━━━━━━━━━━━━━━━━━━━━\u001b[0m\u001b[37m\u001b[0m \u001b[1m0s\u001b[0m 592ms/step - accuracy: 0.9313 - loss: 0.2290\n",
            "Epoch 10: val_loss did not improve from 0.16455\n",
            "\n",
            "Epoch 10: ReduceLROnPlateau reducing learning rate to 0.0002500000118743628.\n",
            "\u001b[1m492/492\u001b[0m \u001b[32m━━━━━━━━━━━━━━━━━━━━\u001b[0m\u001b[37m\u001b[0m \u001b[1m300s\u001b[0m 610ms/step - accuracy: 0.9313 - loss: 0.2290 - val_accuracy: 0.9499 - val_loss: 0.1659 - learning_rate: 5.0000e-04\n",
            "Restoring model weights from the end of the best epoch: 8.\n"
          ]
        }
      ]
    },
    {
      "cell_type": "code",
      "source": [
        "# =========================\n",
        "# Colab cell 8: Stage B fine-tuning (top layers)\n",
        "# =========================\n",
        "# Unfreeze top-k layers of the base\n",
        "k = model._unfreeze_k\n",
        "model._base.trainable = True\n",
        "for layer in model._base.layers[:-k]:\n",
        "    layer.trainable = False\n",
        "for layer in model._base.layers[-k:]:\n",
        "    layer.trainable = True\n",
        "\n",
        "EPOCHS_STAGE2 = 10\n",
        "timerB = EpochTimer()\n",
        "model.compile(\n",
        "    optimizer=optimizers.Adam(learning_rate=1e-5),\n",
        "    loss=tf.keras.losses.SparseCategoricalCrossentropy(),\n",
        "    metrics=['accuracy']\n",
        ")\n",
        "cbB = [\n",
        "    tf.keras.callbacks.ModelCheckpoint(\"best_finetuned.h5\", monitor=\"val_loss\", save_best_only=True, verbose=1),\n",
        "    tf.keras.callbacks.ReduceLROnPlateau(monitor=\"val_loss\", factor=0.5, patience=2, min_lr=1e-7, verbose=1),\n",
        "    tf.keras.callbacks.EarlyStopping(monitor=\"val_loss\", patience=5, restore_best_weights=True, verbose=1),\n",
        "    timerB\n",
        "]\n",
        "histB = model.fit(train_ds, validation_data=val_ds, epochs=EPOCHS_STAGE2,\n",
        "                  class_weight=CLASS_WEIGHTS, callbacks=cbB, verbose=1)\n",
        "\n",
        "# Save final model\n",
        "model.save(\"final_model.h5\")\n",
        "print(\"Saved final_model.h5\")\n"
      ],
      "metadata": {
        "id": "B0tZdXqJRwb4",
        "colab": {
          "base_uri": "https://localhost:8080/"
        },
        "outputId": "a6a93859-b553-48cc-f87d-4e3acd610d2b"
      },
      "execution_count": 10,
      "outputs": [
        {
          "output_type": "stream",
          "name": "stdout",
          "text": [
            "Epoch 1/10\n",
            "    492/Unknown \u001b[1m372s\u001b[0m 653ms/step - accuracy: 0.8572 - loss: 0.4619\n",
            "Epoch 1: val_loss improved from inf to 0.22126, saving model to best_finetuned.h5\n"
          ]
        },
        {
          "output_type": "stream",
          "name": "stderr",
          "text": [
            "WARNING:absl:You are saving your model as an HDF5 file via `model.save()` or `keras.saving.save_model(model)`. This file format is considered legacy. We recommend using instead the native Keras format, e.g. `model.save('my_model.keras')` or `keras.saving.save_model(model, 'my_model.keras')`. \n"
          ]
        },
        {
          "output_type": "stream",
          "name": "stdout",
          "text": [
            "\b\b\b\b\b\b\b\b\b\b\b\b\b\b\b\b\b\b\b\b\b\b\b\b\b\b\b\b\b\b\b\b\b\b\b\b\b\b\b\b\b\b\b\b\b\b\b\b\b\b\b\b\b\b\b\b\b\b\b\b\b\b\b\b\b\r\u001b[1m492/492\u001b[0m \u001b[32m━━━━━━━━━━━━━━━━━━━━\u001b[0m\u001b[37m\u001b[0m \u001b[1m417s\u001b[0m 745ms/step - accuracy: 0.8572 - loss: 0.4619 - val_accuracy: 0.9353 - val_loss: 0.2213 - learning_rate: 1.0000e-05\n",
            "Epoch 2/10\n",
            "\u001b[1m492/492\u001b[0m \u001b[32m━━━━━━━━━━━━━━━━━━━━\u001b[0m\u001b[37m\u001b[0m \u001b[1m0s\u001b[0m 599ms/step - accuracy: 0.8912 - loss: 0.3527\n",
            "Epoch 2: val_loss improved from 0.22126 to 0.19864, saving model to best_finetuned.h5\n"
          ]
        },
        {
          "output_type": "stream",
          "name": "stderr",
          "text": [
            "WARNING:absl:You are saving your model as an HDF5 file via `model.save()` or `keras.saving.save_model(model)`. This file format is considered legacy. We recommend using instead the native Keras format, e.g. `model.save('my_model.keras')` or `keras.saving.save_model(model, 'my_model.keras')`. \n"
          ]
        },
        {
          "output_type": "stream",
          "name": "stdout",
          "text": [
            "\b\b\b\b\b\b\b\b\b\b\b\b\b\b\b\b\b\b\b\b\b\b\b\b\b\b\b\b\b\b\b\b\b\b\b\b\b\b\b\b\b\b\b\b\b\b\b\b\b\b\b\b\b\b\b\b\b\b\b\b\b\b\b\b\b\b\b\b\b\b\b\b\b\b\b\b\r\u001b[1m492/492\u001b[0m \u001b[32m━━━━━━━━━━━━━━━━━━━━\u001b[0m\u001b[37m\u001b[0m \u001b[1m304s\u001b[0m 618ms/step - accuracy: 0.8912 - loss: 0.3527 - val_accuracy: 0.9393 - val_loss: 0.1986 - learning_rate: 1.0000e-05\n",
            "Epoch 3/10\n",
            "\u001b[1m492/492\u001b[0m \u001b[32m━━━━━━━━━━━━━━━━━━━━\u001b[0m\u001b[37m\u001b[0m \u001b[1m0s\u001b[0m 602ms/step - accuracy: 0.9009 - loss: 0.3130\n",
            "Epoch 3: val_loss improved from 0.19864 to 0.18646, saving model to best_finetuned.h5\n"
          ]
        },
        {
          "output_type": "stream",
          "name": "stderr",
          "text": [
            "WARNING:absl:You are saving your model as an HDF5 file via `model.save()` or `keras.saving.save_model(model)`. This file format is considered legacy. We recommend using instead the native Keras format, e.g. `model.save('my_model.keras')` or `keras.saving.save_model(model, 'my_model.keras')`. \n"
          ]
        },
        {
          "output_type": "stream",
          "name": "stdout",
          "text": [
            "\b\b\b\b\b\b\b\b\b\b\b\b\b\b\b\b\b\b\b\b\b\b\b\b\b\b\b\b\b\b\b\b\b\b\b\b\b\b\b\b\b\b\b\b\b\b\b\b\b\b\b\b\b\b\b\b\b\b\b\b\b\b\b\b\b\b\b\b\b\b\b\b\b\b\b\b\r\u001b[1m492/492\u001b[0m \u001b[32m━━━━━━━━━━━━━━━━━━━━\u001b[0m\u001b[37m\u001b[0m \u001b[1m305s\u001b[0m 620ms/step - accuracy: 0.9009 - loss: 0.3130 - val_accuracy: 0.9439 - val_loss: 0.1865 - learning_rate: 1.0000e-05\n",
            "Epoch 4/10\n",
            "\u001b[1m492/492\u001b[0m \u001b[32m━━━━━━━━━━━━━━━━━━━━\u001b[0m\u001b[37m\u001b[0m \u001b[1m0s\u001b[0m 608ms/step - accuracy: 0.9050 - loss: 0.3039\n",
            "Epoch 4: val_loss improved from 0.18646 to 0.17679, saving model to best_finetuned.h5\n"
          ]
        },
        {
          "output_type": "stream",
          "name": "stderr",
          "text": [
            "WARNING:absl:You are saving your model as an HDF5 file via `model.save()` or `keras.saving.save_model(model)`. This file format is considered legacy. We recommend using instead the native Keras format, e.g. `model.save('my_model.keras')` or `keras.saving.save_model(model, 'my_model.keras')`. \n"
          ]
        },
        {
          "output_type": "stream",
          "name": "stdout",
          "text": [
            "\b\b\b\b\b\b\b\b\b\b\b\b\b\b\b\b\b\b\b\b\b\b\b\b\b\b\b\b\b\b\b\b\b\b\b\b\b\b\b\b\b\b\b\b\b\b\b\b\b\b\b\b\b\b\b\b\b\b\b\b\b\b\b\b\b\b\b\b\b\b\b\b\b\b\b\b\r\u001b[1m492/492\u001b[0m \u001b[32m━━━━━━━━━━━━━━━━━━━━\u001b[0m\u001b[37m\u001b[0m \u001b[1m309s\u001b[0m 627ms/step - accuracy: 0.9050 - loss: 0.3039 - val_accuracy: 0.9449 - val_loss: 0.1768 - learning_rate: 1.0000e-05\n",
            "Epoch 5/10\n",
            "\u001b[1m492/492\u001b[0m \u001b[32m━━━━━━━━━━━━━━━━━━━━\u001b[0m\u001b[37m\u001b[0m \u001b[1m0s\u001b[0m 596ms/step - accuracy: 0.9077 - loss: 0.2927\n",
            "Epoch 5: val_loss improved from 0.17679 to 0.17022, saving model to best_finetuned.h5\n"
          ]
        },
        {
          "output_type": "stream",
          "name": "stderr",
          "text": [
            "WARNING:absl:You are saving your model as an HDF5 file via `model.save()` or `keras.saving.save_model(model)`. This file format is considered legacy. We recommend using instead the native Keras format, e.g. `model.save('my_model.keras')` or `keras.saving.save_model(model, 'my_model.keras')`. \n"
          ]
        },
        {
          "output_type": "stream",
          "name": "stdout",
          "text": [
            "\b\b\b\b\b\b\b\b\b\b\b\b\b\b\b\b\b\b\b\b\b\b\b\b\b\b\b\b\b\b\b\b\b\b\b\b\b\b\b\b\b\b\b\b\b\b\b\b\b\b\b\b\b\b\b\b\b\b\b\b\b\b\b\b\b\b\b\b\b\b\b\b\b\b\b\b\r\u001b[1m492/492\u001b[0m \u001b[32m━━━━━━━━━━━━━━━━━━━━\u001b[0m\u001b[37m\u001b[0m \u001b[1m316s\u001b[0m 614ms/step - accuracy: 0.9077 - loss: 0.2927 - val_accuracy: 0.9459 - val_loss: 0.1702 - learning_rate: 1.0000e-05\n",
            "Epoch 6/10\n",
            "\u001b[1m492/492\u001b[0m \u001b[32m━━━━━━━━━━━━━━━━━━━━\u001b[0m\u001b[37m\u001b[0m \u001b[1m0s\u001b[0m 576ms/step - accuracy: 0.9189 - loss: 0.2673\n",
            "Epoch 6: val_loss improved from 0.17022 to 0.16510, saving model to best_finetuned.h5\n"
          ]
        },
        {
          "output_type": "stream",
          "name": "stderr",
          "text": [
            "WARNING:absl:You are saving your model as an HDF5 file via `model.save()` or `keras.saving.save_model(model)`. This file format is considered legacy. We recommend using instead the native Keras format, e.g. `model.save('my_model.keras')` or `keras.saving.save_model(model, 'my_model.keras')`. \n"
          ]
        },
        {
          "output_type": "stream",
          "name": "stdout",
          "text": [
            "\b\b\b\b\b\b\b\b\b\b\b\b\b\b\b\b\b\b\b\b\b\b\b\b\b\b\b\b\b\b\b\b\b\b\b\b\b\b\b\b\b\b\b\b\b\b\b\b\b\b\b\b\b\b\b\b\b\b\b\b\b\b\b\b\b\b\b\b\b\b\b\b\b\b\b\b\r\u001b[1m492/492\u001b[0m \u001b[32m━━━━━━━━━━━━━━━━━━━━\u001b[0m\u001b[37m\u001b[0m \u001b[1m321s\u001b[0m 652ms/step - accuracy: 0.9189 - loss: 0.2673 - val_accuracy: 0.9464 - val_loss: 0.1651 - learning_rate: 1.0000e-05\n",
            "Epoch 7/10\n",
            "\u001b[1m492/492\u001b[0m \u001b[32m━━━━━━━━━━━━━━━━━━━━\u001b[0m\u001b[37m\u001b[0m \u001b[1m0s\u001b[0m 573ms/step - accuracy: 0.9205 - loss: 0.2461\n",
            "Epoch 7: val_loss improved from 0.16510 to 0.15859, saving model to best_finetuned.h5\n"
          ]
        },
        {
          "output_type": "stream",
          "name": "stderr",
          "text": [
            "WARNING:absl:You are saving your model as an HDF5 file via `model.save()` or `keras.saving.save_model(model)`. This file format is considered legacy. We recommend using instead the native Keras format, e.g. `model.save('my_model.keras')` or `keras.saving.save_model(model, 'my_model.keras')`. \n"
          ]
        },
        {
          "output_type": "stream",
          "name": "stdout",
          "text": [
            "\b\b\b\b\b\b\b\b\b\b\b\b\b\b\b\b\b\b\b\b\b\b\b\b\b\b\b\b\b\b\b\b\b\b\b\b\b\b\b\b\b\b\b\b\b\b\b\b\b\b\b\b\b\b\b\b\b\b\b\b\b\b\b\b\b\b\b\b\b\b\b\b\b\b\b\b\r\u001b[1m492/492\u001b[0m \u001b[32m━━━━━━━━━━━━━━━━━━━━\u001b[0m\u001b[37m\u001b[0m \u001b[1m291s\u001b[0m 591ms/step - accuracy: 0.9205 - loss: 0.2461 - val_accuracy: 0.9514 - val_loss: 0.1586 - learning_rate: 1.0000e-05\n",
            "Epoch 8/10\n",
            "\u001b[1m492/492\u001b[0m \u001b[32m━━━━━━━━━━━━━━━━━━━━\u001b[0m\u001b[37m\u001b[0m \u001b[1m0s\u001b[0m 573ms/step - accuracy: 0.9245 - loss: 0.2348\n",
            "Epoch 8: val_loss improved from 0.15859 to 0.15619, saving model to best_finetuned.h5\n"
          ]
        },
        {
          "output_type": "stream",
          "name": "stderr",
          "text": [
            "WARNING:absl:You are saving your model as an HDF5 file via `model.save()` or `keras.saving.save_model(model)`. This file format is considered legacy. We recommend using instead the native Keras format, e.g. `model.save('my_model.keras')` or `keras.saving.save_model(model, 'my_model.keras')`. \n"
          ]
        },
        {
          "output_type": "stream",
          "name": "stdout",
          "text": [
            "\b\b\b\b\b\b\b\b\b\b\b\b\b\b\b\b\b\b\b\b\b\b\b\b\b\b\b\b\b\b\b\b\b\b\b\b\b\b\b\b\b\b\b\b\b\b\b\b\b\b\b\b\b\b\b\b\b\b\b\b\b\b\b\b\b\b\b\b\b\b\b\b\b\b\b\b\r\u001b[1m492/492\u001b[0m \u001b[32m━━━━━━━━━━━━━━━━━━━━\u001b[0m\u001b[37m\u001b[0m \u001b[1m290s\u001b[0m 589ms/step - accuracy: 0.9245 - loss: 0.2348 - val_accuracy: 0.9519 - val_loss: 0.1562 - learning_rate: 1.0000e-05\n",
            "Epoch 9/10\n",
            "\u001b[1m492/492\u001b[0m \u001b[32m━━━━━━━━━━━━━━━━━━━━\u001b[0m\u001b[37m\u001b[0m \u001b[1m0s\u001b[0m 573ms/step - accuracy: 0.9228 - loss: 0.2358\n",
            "Epoch 9: val_loss improved from 0.15619 to 0.15207, saving model to best_finetuned.h5\n"
          ]
        },
        {
          "output_type": "stream",
          "name": "stderr",
          "text": [
            "WARNING:absl:You are saving your model as an HDF5 file via `model.save()` or `keras.saving.save_model(model)`. This file format is considered legacy. We recommend using instead the native Keras format, e.g. `model.save('my_model.keras')` or `keras.saving.save_model(model, 'my_model.keras')`. \n"
          ]
        },
        {
          "output_type": "stream",
          "name": "stdout",
          "text": [
            "\b\b\b\b\b\b\b\b\b\b\b\b\b\b\b\b\b\b\b\b\b\b\b\b\b\b\b\b\b\b\b\b\b\b\b\b\b\b\b\b\b\b\b\b\b\b\b\b\b\b\b\b\b\b\b\b\b\b\b\b\b\b\b\b\b\b\b\b\b\b\b\b\b\b\b\b\r\u001b[1m492/492\u001b[0m \u001b[32m━━━━━━━━━━━━━━━━━━━━\u001b[0m\u001b[37m\u001b[0m \u001b[1m323s\u001b[0m 591ms/step - accuracy: 0.9228 - loss: 0.2358 - val_accuracy: 0.9499 - val_loss: 0.1521 - learning_rate: 1.0000e-05\n",
            "Epoch 10/10\n",
            "\u001b[1m492/492\u001b[0m \u001b[32m━━━━━━━━━━━━━━━━━━━━\u001b[0m\u001b[37m\u001b[0m \u001b[1m0s\u001b[0m 570ms/step - accuracy: 0.9299 - loss: 0.2283\n",
            "Epoch 10: val_loss improved from 0.15207 to 0.14941, saving model to best_finetuned.h5\n"
          ]
        },
        {
          "output_type": "stream",
          "name": "stderr",
          "text": [
            "WARNING:absl:You are saving your model as an HDF5 file via `model.save()` or `keras.saving.save_model(model)`. This file format is considered legacy. We recommend using instead the native Keras format, e.g. `model.save('my_model.keras')` or `keras.saving.save_model(model, 'my_model.keras')`. \n"
          ]
        },
        {
          "output_type": "stream",
          "name": "stdout",
          "text": [
            "\b\b\b\b\b\b\b\b\b\b\b\b\b\b\b\b\b\b\b\b\b\b\b\b\b\b\b\b\b\b\b\b\b\b\b\b\b\b\b\b\b\b\b\b\b\b\b\b\b\b\b\b\b\b\b\b\b\b\b\b\b\b\b\b\b\b\b\b\b\b\b\b\b\b\b\b\r\u001b[1m492/492\u001b[0m \u001b[32m━━━━━━━━━━━━━━━━━━━━\u001b[0m\u001b[37m\u001b[0m \u001b[1m320s\u001b[0m 588ms/step - accuracy: 0.9299 - loss: 0.2283 - val_accuracy: 0.9525 - val_loss: 0.1494 - learning_rate: 1.0000e-05\n",
            "Restoring model weights from the end of the best epoch: 10.\n"
          ]
        },
        {
          "output_type": "stream",
          "name": "stderr",
          "text": [
            "WARNING:absl:You are saving your model as an HDF5 file via `model.save()` or `keras.saving.save_model(model)`. This file format is considered legacy. We recommend using instead the native Keras format, e.g. `model.save('my_model.keras')` or `keras.saving.save_model(model, 'my_model.keras')`. \n"
          ]
        },
        {
          "output_type": "stream",
          "name": "stdout",
          "text": [
            "Saved final_model.h5\n"
          ]
        }
      ]
    },
    {
      "cell_type": "code",
      "source": [
        "# =========================\n",
        "# Colab cell 9: Evaluation\n",
        "# =========================\n",
        "from sklearn.metrics import classification_report, confusion_matrix, precision_recall_fscore_support, accuracy_score\n",
        "import seaborn as sns\n",
        "import matplotlib.pyplot as plt\n",
        "\n",
        "# Inference on test\n",
        "y_true, y_pred = [], []\n",
        "for x_batch, y_batch in test_ds:\n",
        "    preds = model.predict(x_batch, verbose=0)\n",
        "    y_pred.extend(np.argmax(preds, axis=1).tolist())\n",
        "    y_true.extend(y_batch.numpy().tolist())\n",
        "\n",
        "y_true = np.array(y_true); y_pred = np.array(y_pred)\n",
        "acc = accuracy_score(y_true, y_pred)\n",
        "prec, rec, f1, _ = precision_recall_fscore_support(y_true, y_pred, average=\"macro\", zero_division=0)\n",
        "\n",
        "print(f\"\\nTest Accuracy: {acc:.4f}  |  Macro-Precision: {prec:.4f}  Macro-Recall: {rec:.4f}  Macro-F1: {f1:.4f}\\n\")\n",
        "print(classification_report(y_true, y_pred, target_names=classes, digits=4))\n",
        "\n",
        "# Confusion matrix (normalized for readability)\n",
        "cm = confusion_matrix(y_true, y_pred)\n",
        "plt.figure(figsize=(9,7))\n",
        "sns.heatmap(cm, cmap=\"Blues\", xticklabels=classes, yticklabels=classes, cbar=True)\n",
        "plt.title(\"Confusion Matrix — Test\"); plt.xlabel(\"Predicted\"); plt.ylabel(\"True\"); plt.tight_layout(); plt.show()\n",
        "\n",
        "# Per-class metrics CSV (for the paper)\n",
        "p_i, r_i, f1_i, sup_i = precision_recall_fscore_support(y_true, y_pred, labels=range(len(classes)), zero_division=0)\n",
        "df_metrics = pd.DataFrame({\"class\": classes, \"precision\": p_i, \"recall\": r_i, \"f1\": f1_i, \"support\": sup_i})\n",
        "df_metrics.to_csv(\"per_class_metrics.csv\", index=False); df_metrics.head()\n",
        "\n",
        "# Time per epoch & model size\n",
        "def path_size_mb(path):\n",
        "    import os\n",
        "    if os.path.isfile(path): return os.path.getsize(path)/(1024*1024)\n",
        "    total=0\n",
        "    for r,_,fs in os.walk(path):\n",
        "        for f in fs: total += os.path.getsize(os.path.join(r,f))\n",
        "    return total/(1024*1024)\n",
        "\n",
        "avg_time_epoch = float(np.mean(timerA.times + timerB.times)) if (timerA.times or timerB.times) else np.nan\n",
        "print(f\"Avg time/epoch (approx): {avg_time_epoch:.2f}s\")\n",
        "print(\"Model size (H5):\", f\"{path_size_mb('final_model.h5'):.2f} MB\")\n"
      ],
      "metadata": {
        "id": "lRB5hDunxLFo",
        "colab": {
          "base_uri": "https://localhost:8080/",
          "height": 1000
        },
        "outputId": "7ac8f53b-b510-49c3-8a49-2e8ed9b13e2c"
      },
      "execution_count": 11,
      "outputs": [
        {
          "output_type": "stream",
          "name": "stdout",
          "text": [
            "\n",
            "Test Accuracy: 0.9434  |  Macro-Precision: 0.9273  Macro-Recall: 0.9431  Macro-F1: 0.9340\n",
            "\n",
            "              precision    recall  f1-score   support\n",
            "\n",
            "     battery     0.9681    0.9681    0.9681        94\n",
            "  biological     0.9429    0.9900    0.9659       100\n",
            "   cardboard     0.9247    0.9399    0.9322       183\n",
            "     clothes     0.9905    0.9719    0.9811       534\n",
            "       glass     0.9652    0.9052    0.9342       306\n",
            "       metal     0.7778    0.9608    0.8596       102\n",
            "       paper     0.9444    0.9107    0.9273       168\n",
            "     plastic     0.9175    0.8945    0.9059       199\n",
            "       shoes     0.9461    0.9747    0.9602       198\n",
            "       trash     0.8958    0.9149    0.9053        94\n",
            "\n",
            "    accuracy                         0.9434      1978\n",
            "   macro avg     0.9273    0.9431    0.9340      1978\n",
            "weighted avg     0.9458    0.9434    0.9438      1978\n",
            "\n"
          ]
        },
        {
          "output_type": "display_data",
          "data": {
            "text/plain": [
              "<Figure size 900x700 with 2 Axes>"
            ],
            "image/png": "[encoded data removed]"
          },
          "metadata": {}
        },
        {
          "output_type": "stream",
          "name": "stdout",
          "text": [
            "Avg time/epoch (approx): 323.70s\n",
            "Model size (H5): 27.23 MB\n"
          ]
        }
      ]
    },
    {
      "cell_type": "code",
      "source": [],
      "metadata": {
        "id": "B8t8tVer77TC"
      },
      "execution_count": 11,
      "outputs": []
    }
  ]
}